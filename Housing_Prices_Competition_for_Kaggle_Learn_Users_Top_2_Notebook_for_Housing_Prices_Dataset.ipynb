{
  "nbformat": 4,
  "nbformat_minor": 0,
  "metadata": {
    "colab": {
      "name": "Housing Prices Competition for Kaggle Learn Users_Top 2% Notebook for Housing Prices Dataset.ipynb",
      "provenance": []
    },
    "kernelspec": {
      "name": "python3",
      "display_name": "Python 3"
    },
    "language_info": {
      "name": "python"
    },
    "accelerator": "GPU"
  },
  "cells": [
    {
      "cell_type": "code",
      "metadata": {
        "colab": {
          "base_uri": "https://localhost:8080/"
        },
        "id": "wHaIVRer51x_",
        "outputId": "e4d2e254-bd83-40b6-b2b7-566de0c165f5"
      },
      "source": [
        "#Install/load required packages\n",
        "!pip install dython | grep -v 'already satisfied'\n",
        "\n",
        "import pandas as pd\n",
        "import numpy as np\n",
        "import matplotlib.pyplot as plt\n",
        "%matplotlib inline\n",
        "import seaborn as sns\n",
        "print(\"Setup Complete\")"
      ],
      "execution_count": 5,
      "outputs": [
        {
          "output_type": "stream",
          "text": [
            "Setup Complete\n"
          ],
          "name": "stdout"
        }
      ]
    },
    {
      "cell_type": "code",
      "metadata": {
        "colab": {
          "base_uri": "https://localhost:8080/"
        },
        "id": "Jfuj8vut6RVe",
        "outputId": "61a0d3ab-d1f1-4b5e-c347-d6437b0a3be5"
      },
      "source": [
        "from google.colab import drive\n",
        "drive.mount('/content/gdrive') "
      ],
      "execution_count": 6,
      "outputs": [
        {
          "output_type": "stream",
          "text": [
            "Mounted at /content/gdrive\n"
          ],
          "name": "stdout"
        }
      ]
    },
    {
      "cell_type": "code",
      "metadata": {
        "id": "kKLSJFYV6Gbm"
      },
      "source": [
        "#Upload and record housing prices data \n",
        "\n",
        "train_data = pd.read_csv('/content/gdrive/MyDrive/Colab Notebooks/cs231n_assignment/home-data-for-ml-course/train.csv', index_col='Id')\n",
        "test_data = pd.read_csv('/content/gdrive/MyDrive/Colab Notebooks/cs231n_assignment/home-data-for-ml-course/test.csv', index_col='Id')"
      ],
      "execution_count": 7,
      "outputs": []
    },
    {
      "cell_type": "markdown",
      "metadata": {
        "id": "WS8NpQ4_6o60"
      },
      "source": [
        "### Data Summary"
      ]
    },
    {
      "cell_type": "code",
      "metadata": {
        "colab": {
          "base_uri": "https://localhost:8080/",
          "height": 257
        },
        "id": "ISfpzyPS6kik",
        "outputId": "9ec08f08-e73a-4c89-d20f-d89a9e7195d7"
      },
      "source": [
        "#Visualize the first entries of the dataset\n",
        "train_data.head()\n",
        "#test_data.head()"
      ],
      "execution_count": 8,
      "outputs": [
        {
          "output_type": "execute_result",
          "data": {
            "text/html": [
              "<div>\n",
              "<style scoped>\n",
              "    .dataframe tbody tr th:only-of-type {\n",
              "        vertical-align: middle;\n",
              "    }\n",
              "\n",
              "    .dataframe tbody tr th {\n",
              "        vertical-align: top;\n",
              "    }\n",
              "\n",
              "    .dataframe thead th {\n",
              "        text-align: right;\n",
              "    }\n",
              "</style>\n",
              "<table border=\"1\" class=\"dataframe\">\n",
              "  <thead>\n",
              "    <tr style=\"text-align: right;\">\n",
              "      <th></th>\n",
              "      <th>MSSubClass</th>\n",
              "      <th>MSZoning</th>\n",
              "      <th>LotFrontage</th>\n",
              "      <th>LotArea</th>\n",
              "      <th>Street</th>\n",
              "      <th>Alley</th>\n",
              "      <th>LotShape</th>\n",
              "      <th>LandContour</th>\n",
              "      <th>Utilities</th>\n",
              "      <th>LotConfig</th>\n",
              "      <th>LandSlope</th>\n",
              "      <th>Neighborhood</th>\n",
              "      <th>Condition1</th>\n",
              "      <th>Condition2</th>\n",
              "      <th>BldgType</th>\n",
              "      <th>HouseStyle</th>\n",
              "      <th>OverallQual</th>\n",
              "      <th>OverallCond</th>\n",
              "      <th>YearBuilt</th>\n",
              "      <th>YearRemodAdd</th>\n",
              "      <th>RoofStyle</th>\n",
              "      <th>RoofMatl</th>\n",
              "      <th>Exterior1st</th>\n",
              "      <th>Exterior2nd</th>\n",
              "      <th>MasVnrType</th>\n",
              "      <th>MasVnrArea</th>\n",
              "      <th>ExterQual</th>\n",
              "      <th>ExterCond</th>\n",
              "      <th>Foundation</th>\n",
              "      <th>BsmtQual</th>\n",
              "      <th>BsmtCond</th>\n",
              "      <th>BsmtExposure</th>\n",
              "      <th>BsmtFinType1</th>\n",
              "      <th>BsmtFinSF1</th>\n",
              "      <th>BsmtFinType2</th>\n",
              "      <th>BsmtFinSF2</th>\n",
              "      <th>BsmtUnfSF</th>\n",
              "      <th>TotalBsmtSF</th>\n",
              "      <th>Heating</th>\n",
              "      <th>HeatingQC</th>\n",
              "      <th>CentralAir</th>\n",
              "      <th>Electrical</th>\n",
              "      <th>1stFlrSF</th>\n",
              "      <th>2ndFlrSF</th>\n",
              "      <th>LowQualFinSF</th>\n",
              "      <th>GrLivArea</th>\n",
              "      <th>BsmtFullBath</th>\n",
              "      <th>BsmtHalfBath</th>\n",
              "      <th>FullBath</th>\n",
              "      <th>HalfBath</th>\n",
              "      <th>BedroomAbvGr</th>\n",
              "      <th>KitchenAbvGr</th>\n",
              "      <th>KitchenQual</th>\n",
              "      <th>TotRmsAbvGrd</th>\n",
              "      <th>Functional</th>\n",
              "      <th>Fireplaces</th>\n",
              "      <th>FireplaceQu</th>\n",
              "      <th>GarageType</th>\n",
              "      <th>GarageYrBlt</th>\n",
              "      <th>GarageFinish</th>\n",
              "      <th>GarageCars</th>\n",
              "      <th>GarageArea</th>\n",
              "      <th>GarageQual</th>\n",
              "      <th>GarageCond</th>\n",
              "      <th>PavedDrive</th>\n",
              "      <th>WoodDeckSF</th>\n",
              "      <th>OpenPorchSF</th>\n",
              "      <th>EnclosedPorch</th>\n",
              "      <th>3SsnPorch</th>\n",
              "      <th>ScreenPorch</th>\n",
              "      <th>PoolArea</th>\n",
              "      <th>PoolQC</th>\n",
              "      <th>Fence</th>\n",
              "      <th>MiscFeature</th>\n",
              "      <th>MiscVal</th>\n",
              "      <th>MoSold</th>\n",
              "      <th>YrSold</th>\n",
              "      <th>SaleType</th>\n",
              "      <th>SaleCondition</th>\n",
              "      <th>SalePrice</th>\n",
              "    </tr>\n",
              "    <tr>\n",
              "      <th>Id</th>\n",
              "      <th></th>\n",
              "      <th></th>\n",
              "      <th></th>\n",
              "      <th></th>\n",
              "      <th></th>\n",
              "      <th></th>\n",
              "      <th></th>\n",
              "      <th></th>\n",
              "      <th></th>\n",
              "      <th></th>\n",
              "      <th></th>\n",
              "      <th></th>\n",
              "      <th></th>\n",
              "      <th></th>\n",
              "      <th></th>\n",
              "      <th></th>\n",
              "      <th></th>\n",
              "      <th></th>\n",
              "      <th></th>\n",
              "      <th></th>\n",
              "      <th></th>\n",
              "      <th></th>\n",
              "      <th></th>\n",
              "      <th></th>\n",
              "      <th></th>\n",
              "      <th></th>\n",
              "      <th></th>\n",
              "      <th></th>\n",
              "      <th></th>\n",
              "      <th></th>\n",
              "      <th></th>\n",
              "      <th></th>\n",
              "      <th></th>\n",
              "      <th></th>\n",
              "      <th></th>\n",
              "      <th></th>\n",
              "      <th></th>\n",
              "      <th></th>\n",
              "      <th></th>\n",
              "      <th></th>\n",
              "      <th></th>\n",
              "      <th></th>\n",
              "      <th></th>\n",
              "      <th></th>\n",
              "      <th></th>\n",
              "      <th></th>\n",
              "      <th></th>\n",
              "      <th></th>\n",
              "      <th></th>\n",
              "      <th></th>\n",
              "      <th></th>\n",
              "      <th></th>\n",
              "      <th></th>\n",
              "      <th></th>\n",
              "      <th></th>\n",
              "      <th></th>\n",
              "      <th></th>\n",
              "      <th></th>\n",
              "      <th></th>\n",
              "      <th></th>\n",
              "      <th></th>\n",
              "      <th></th>\n",
              "      <th></th>\n",
              "      <th></th>\n",
              "      <th></th>\n",
              "      <th></th>\n",
              "      <th></th>\n",
              "      <th></th>\n",
              "      <th></th>\n",
              "      <th></th>\n",
              "      <th></th>\n",
              "      <th></th>\n",
              "      <th></th>\n",
              "      <th></th>\n",
              "      <th></th>\n",
              "      <th></th>\n",
              "      <th></th>\n",
              "      <th></th>\n",
              "      <th></th>\n",
              "      <th></th>\n",
              "    </tr>\n",
              "  </thead>\n",
              "  <tbody>\n",
              "    <tr>\n",
              "      <th>1</th>\n",
              "      <td>60</td>\n",
              "      <td>RL</td>\n",
              "      <td>65.0</td>\n",
              "      <td>8450</td>\n",
              "      <td>Pave</td>\n",
              "      <td>NaN</td>\n",
              "      <td>Reg</td>\n",
              "      <td>Lvl</td>\n",
              "      <td>AllPub</td>\n",
              "      <td>Inside</td>\n",
              "      <td>Gtl</td>\n",
              "      <td>CollgCr</td>\n",
              "      <td>Norm</td>\n",
              "      <td>Norm</td>\n",
              "      <td>1Fam</td>\n",
              "      <td>2Story</td>\n",
              "      <td>7</td>\n",
              "      <td>5</td>\n",
              "      <td>2003</td>\n",
              "      <td>2003</td>\n",
              "      <td>Gable</td>\n",
              "      <td>CompShg</td>\n",
              "      <td>VinylSd</td>\n",
              "      <td>VinylSd</td>\n",
              "      <td>BrkFace</td>\n",
              "      <td>196.0</td>\n",
              "      <td>Gd</td>\n",
              "      <td>TA</td>\n",
              "      <td>PConc</td>\n",
              "      <td>Gd</td>\n",
              "      <td>TA</td>\n",
              "      <td>No</td>\n",
              "      <td>GLQ</td>\n",
              "      <td>706</td>\n",
              "      <td>Unf</td>\n",
              "      <td>0</td>\n",
              "      <td>150</td>\n",
              "      <td>856</td>\n",
              "      <td>GasA</td>\n",
              "      <td>Ex</td>\n",
              "      <td>Y</td>\n",
              "      <td>SBrkr</td>\n",
              "      <td>856</td>\n",
              "      <td>854</td>\n",
              "      <td>0</td>\n",
              "      <td>1710</td>\n",
              "      <td>1</td>\n",
              "      <td>0</td>\n",
              "      <td>2</td>\n",
              "      <td>1</td>\n",
              "      <td>3</td>\n",
              "      <td>1</td>\n",
              "      <td>Gd</td>\n",
              "      <td>8</td>\n",
              "      <td>Typ</td>\n",
              "      <td>0</td>\n",
              "      <td>NaN</td>\n",
              "      <td>Attchd</td>\n",
              "      <td>2003.0</td>\n",
              "      <td>RFn</td>\n",
              "      <td>2</td>\n",
              "      <td>548</td>\n",
              "      <td>TA</td>\n",
              "      <td>TA</td>\n",
              "      <td>Y</td>\n",
              "      <td>0</td>\n",
              "      <td>61</td>\n",
              "      <td>0</td>\n",
              "      <td>0</td>\n",
              "      <td>0</td>\n",
              "      <td>0</td>\n",
              "      <td>NaN</td>\n",
              "      <td>NaN</td>\n",
              "      <td>NaN</td>\n",
              "      <td>0</td>\n",
              "      <td>2</td>\n",
              "      <td>2008</td>\n",
              "      <td>WD</td>\n",
              "      <td>Normal</td>\n",
              "      <td>208500</td>\n",
              "    </tr>\n",
              "    <tr>\n",
              "      <th>2</th>\n",
              "      <td>20</td>\n",
              "      <td>RL</td>\n",
              "      <td>80.0</td>\n",
              "      <td>9600</td>\n",
              "      <td>Pave</td>\n",
              "      <td>NaN</td>\n",
              "      <td>Reg</td>\n",
              "      <td>Lvl</td>\n",
              "      <td>AllPub</td>\n",
              "      <td>FR2</td>\n",
              "      <td>Gtl</td>\n",
              "      <td>Veenker</td>\n",
              "      <td>Feedr</td>\n",
              "      <td>Norm</td>\n",
              "      <td>1Fam</td>\n",
              "      <td>1Story</td>\n",
              "      <td>6</td>\n",
              "      <td>8</td>\n",
              "      <td>1976</td>\n",
              "      <td>1976</td>\n",
              "      <td>Gable</td>\n",
              "      <td>CompShg</td>\n",
              "      <td>MetalSd</td>\n",
              "      <td>MetalSd</td>\n",
              "      <td>None</td>\n",
              "      <td>0.0</td>\n",
              "      <td>TA</td>\n",
              "      <td>TA</td>\n",
              "      <td>CBlock</td>\n",
              "      <td>Gd</td>\n",
              "      <td>TA</td>\n",
              "      <td>Gd</td>\n",
              "      <td>ALQ</td>\n",
              "      <td>978</td>\n",
              "      <td>Unf</td>\n",
              "      <td>0</td>\n",
              "      <td>284</td>\n",
              "      <td>1262</td>\n",
              "      <td>GasA</td>\n",
              "      <td>Ex</td>\n",
              "      <td>Y</td>\n",
              "      <td>SBrkr</td>\n",
              "      <td>1262</td>\n",
              "      <td>0</td>\n",
              "      <td>0</td>\n",
              "      <td>1262</td>\n",
              "      <td>0</td>\n",
              "      <td>1</td>\n",
              "      <td>2</td>\n",
              "      <td>0</td>\n",
              "      <td>3</td>\n",
              "      <td>1</td>\n",
              "      <td>TA</td>\n",
              "      <td>6</td>\n",
              "      <td>Typ</td>\n",
              "      <td>1</td>\n",
              "      <td>TA</td>\n",
              "      <td>Attchd</td>\n",
              "      <td>1976.0</td>\n",
              "      <td>RFn</td>\n",
              "      <td>2</td>\n",
              "      <td>460</td>\n",
              "      <td>TA</td>\n",
              "      <td>TA</td>\n",
              "      <td>Y</td>\n",
              "      <td>298</td>\n",
              "      <td>0</td>\n",
              "      <td>0</td>\n",
              "      <td>0</td>\n",
              "      <td>0</td>\n",
              "      <td>0</td>\n",
              "      <td>NaN</td>\n",
              "      <td>NaN</td>\n",
              "      <td>NaN</td>\n",
              "      <td>0</td>\n",
              "      <td>5</td>\n",
              "      <td>2007</td>\n",
              "      <td>WD</td>\n",
              "      <td>Normal</td>\n",
              "      <td>181500</td>\n",
              "    </tr>\n",
              "    <tr>\n",
              "      <th>3</th>\n",
              "      <td>60</td>\n",
              "      <td>RL</td>\n",
              "      <td>68.0</td>\n",
              "      <td>11250</td>\n",
              "      <td>Pave</td>\n",
              "      <td>NaN</td>\n",
              "      <td>IR1</td>\n",
              "      <td>Lvl</td>\n",
              "      <td>AllPub</td>\n",
              "      <td>Inside</td>\n",
              "      <td>Gtl</td>\n",
              "      <td>CollgCr</td>\n",
              "      <td>Norm</td>\n",
              "      <td>Norm</td>\n",
              "      <td>1Fam</td>\n",
              "      <td>2Story</td>\n",
              "      <td>7</td>\n",
              "      <td>5</td>\n",
              "      <td>2001</td>\n",
              "      <td>2002</td>\n",
              "      <td>Gable</td>\n",
              "      <td>CompShg</td>\n",
              "      <td>VinylSd</td>\n",
              "      <td>VinylSd</td>\n",
              "      <td>BrkFace</td>\n",
              "      <td>162.0</td>\n",
              "      <td>Gd</td>\n",
              "      <td>TA</td>\n",
              "      <td>PConc</td>\n",
              "      <td>Gd</td>\n",
              "      <td>TA</td>\n",
              "      <td>Mn</td>\n",
              "      <td>GLQ</td>\n",
              "      <td>486</td>\n",
              "      <td>Unf</td>\n",
              "      <td>0</td>\n",
              "      <td>434</td>\n",
              "      <td>920</td>\n",
              "      <td>GasA</td>\n",
              "      <td>Ex</td>\n",
              "      <td>Y</td>\n",
              "      <td>SBrkr</td>\n",
              "      <td>920</td>\n",
              "      <td>866</td>\n",
              "      <td>0</td>\n",
              "      <td>1786</td>\n",
              "      <td>1</td>\n",
              "      <td>0</td>\n",
              "      <td>2</td>\n",
              "      <td>1</td>\n",
              "      <td>3</td>\n",
              "      <td>1</td>\n",
              "      <td>Gd</td>\n",
              "      <td>6</td>\n",
              "      <td>Typ</td>\n",
              "      <td>1</td>\n",
              "      <td>TA</td>\n",
              "      <td>Attchd</td>\n",
              "      <td>2001.0</td>\n",
              "      <td>RFn</td>\n",
              "      <td>2</td>\n",
              "      <td>608</td>\n",
              "      <td>TA</td>\n",
              "      <td>TA</td>\n",
              "      <td>Y</td>\n",
              "      <td>0</td>\n",
              "      <td>42</td>\n",
              "      <td>0</td>\n",
              "      <td>0</td>\n",
              "      <td>0</td>\n",
              "      <td>0</td>\n",
              "      <td>NaN</td>\n",
              "      <td>NaN</td>\n",
              "      <td>NaN</td>\n",
              "      <td>0</td>\n",
              "      <td>9</td>\n",
              "      <td>2008</td>\n",
              "      <td>WD</td>\n",
              "      <td>Normal</td>\n",
              "      <td>223500</td>\n",
              "    </tr>\n",
              "    <tr>\n",
              "      <th>4</th>\n",
              "      <td>70</td>\n",
              "      <td>RL</td>\n",
              "      <td>60.0</td>\n",
              "      <td>9550</td>\n",
              "      <td>Pave</td>\n",
              "      <td>NaN</td>\n",
              "      <td>IR1</td>\n",
              "      <td>Lvl</td>\n",
              "      <td>AllPub</td>\n",
              "      <td>Corner</td>\n",
              "      <td>Gtl</td>\n",
              "      <td>Crawfor</td>\n",
              "      <td>Norm</td>\n",
              "      <td>Norm</td>\n",
              "      <td>1Fam</td>\n",
              "      <td>2Story</td>\n",
              "      <td>7</td>\n",
              "      <td>5</td>\n",
              "      <td>1915</td>\n",
              "      <td>1970</td>\n",
              "      <td>Gable</td>\n",
              "      <td>CompShg</td>\n",
              "      <td>Wd Sdng</td>\n",
              "      <td>Wd Shng</td>\n",
              "      <td>None</td>\n",
              "      <td>0.0</td>\n",
              "      <td>TA</td>\n",
              "      <td>TA</td>\n",
              "      <td>BrkTil</td>\n",
              "      <td>TA</td>\n",
              "      <td>Gd</td>\n",
              "      <td>No</td>\n",
              "      <td>ALQ</td>\n",
              "      <td>216</td>\n",
              "      <td>Unf</td>\n",
              "      <td>0</td>\n",
              "      <td>540</td>\n",
              "      <td>756</td>\n",
              "      <td>GasA</td>\n",
              "      <td>Gd</td>\n",
              "      <td>Y</td>\n",
              "      <td>SBrkr</td>\n",
              "      <td>961</td>\n",
              "      <td>756</td>\n",
              "      <td>0</td>\n",
              "      <td>1717</td>\n",
              "      <td>1</td>\n",
              "      <td>0</td>\n",
              "      <td>1</td>\n",
              "      <td>0</td>\n",
              "      <td>3</td>\n",
              "      <td>1</td>\n",
              "      <td>Gd</td>\n",
              "      <td>7</td>\n",
              "      <td>Typ</td>\n",
              "      <td>1</td>\n",
              "      <td>Gd</td>\n",
              "      <td>Detchd</td>\n",
              "      <td>1998.0</td>\n",
              "      <td>Unf</td>\n",
              "      <td>3</td>\n",
              "      <td>642</td>\n",
              "      <td>TA</td>\n",
              "      <td>TA</td>\n",
              "      <td>Y</td>\n",
              "      <td>0</td>\n",
              "      <td>35</td>\n",
              "      <td>272</td>\n",
              "      <td>0</td>\n",
              "      <td>0</td>\n",
              "      <td>0</td>\n",
              "      <td>NaN</td>\n",
              "      <td>NaN</td>\n",
              "      <td>NaN</td>\n",
              "      <td>0</td>\n",
              "      <td>2</td>\n",
              "      <td>2006</td>\n",
              "      <td>WD</td>\n",
              "      <td>Abnorml</td>\n",
              "      <td>140000</td>\n",
              "    </tr>\n",
              "    <tr>\n",
              "      <th>5</th>\n",
              "      <td>60</td>\n",
              "      <td>RL</td>\n",
              "      <td>84.0</td>\n",
              "      <td>14260</td>\n",
              "      <td>Pave</td>\n",
              "      <td>NaN</td>\n",
              "      <td>IR1</td>\n",
              "      <td>Lvl</td>\n",
              "      <td>AllPub</td>\n",
              "      <td>FR2</td>\n",
              "      <td>Gtl</td>\n",
              "      <td>NoRidge</td>\n",
              "      <td>Norm</td>\n",
              "      <td>Norm</td>\n",
              "      <td>1Fam</td>\n",
              "      <td>2Story</td>\n",
              "      <td>8</td>\n",
              "      <td>5</td>\n",
              "      <td>2000</td>\n",
              "      <td>2000</td>\n",
              "      <td>Gable</td>\n",
              "      <td>CompShg</td>\n",
              "      <td>VinylSd</td>\n",
              "      <td>VinylSd</td>\n",
              "      <td>BrkFace</td>\n",
              "      <td>350.0</td>\n",
              "      <td>Gd</td>\n",
              "      <td>TA</td>\n",
              "      <td>PConc</td>\n",
              "      <td>Gd</td>\n",
              "      <td>TA</td>\n",
              "      <td>Av</td>\n",
              "      <td>GLQ</td>\n",
              "      <td>655</td>\n",
              "      <td>Unf</td>\n",
              "      <td>0</td>\n",
              "      <td>490</td>\n",
              "      <td>1145</td>\n",
              "      <td>GasA</td>\n",
              "      <td>Ex</td>\n",
              "      <td>Y</td>\n",
              "      <td>SBrkr</td>\n",
              "      <td>1145</td>\n",
              "      <td>1053</td>\n",
              "      <td>0</td>\n",
              "      <td>2198</td>\n",
              "      <td>1</td>\n",
              "      <td>0</td>\n",
              "      <td>2</td>\n",
              "      <td>1</td>\n",
              "      <td>4</td>\n",
              "      <td>1</td>\n",
              "      <td>Gd</td>\n",
              "      <td>9</td>\n",
              "      <td>Typ</td>\n",
              "      <td>1</td>\n",
              "      <td>TA</td>\n",
              "      <td>Attchd</td>\n",
              "      <td>2000.0</td>\n",
              "      <td>RFn</td>\n",
              "      <td>3</td>\n",
              "      <td>836</td>\n",
              "      <td>TA</td>\n",
              "      <td>TA</td>\n",
              "      <td>Y</td>\n",
              "      <td>192</td>\n",
              "      <td>84</td>\n",
              "      <td>0</td>\n",
              "      <td>0</td>\n",
              "      <td>0</td>\n",
              "      <td>0</td>\n",
              "      <td>NaN</td>\n",
              "      <td>NaN</td>\n",
              "      <td>NaN</td>\n",
              "      <td>0</td>\n",
              "      <td>12</td>\n",
              "      <td>2008</td>\n",
              "      <td>WD</td>\n",
              "      <td>Normal</td>\n",
              "      <td>250000</td>\n",
              "    </tr>\n",
              "  </tbody>\n",
              "</table>\n",
              "</div>"
            ],
            "text/plain": [
              "    MSSubClass MSZoning  LotFrontage  ...  SaleType SaleCondition SalePrice\n",
              "Id                                    ...                                  \n",
              "1           60       RL         65.0  ...        WD        Normal    208500\n",
              "2           20       RL         80.0  ...        WD        Normal    181500\n",
              "3           60       RL         68.0  ...        WD        Normal    223500\n",
              "4           70       RL         60.0  ...        WD       Abnorml    140000\n",
              "5           60       RL         84.0  ...        WD        Normal    250000\n",
              "\n",
              "[5 rows x 80 columns]"
            ]
          },
          "metadata": {
            "tags": []
          },
          "execution_count": 8
        }
      ]
    },
    {
      "cell_type": "code",
      "metadata": {
        "colab": {
          "base_uri": "https://localhost:8080/",
          "height": 320
        },
        "id": "tylSKYVD6t3q",
        "outputId": "e63b2470-6fb1-4d69-8392-19b80b0f8269"
      },
      "source": [
        "#Brief summary of numerical columns\n",
        "train_data.describe()\n",
        "#test_data.describe()"
      ],
      "execution_count": 9,
      "outputs": [
        {
          "output_type": "execute_result",
          "data": {
            "text/html": [
              "<div>\n",
              "<style scoped>\n",
              "    .dataframe tbody tr th:only-of-type {\n",
              "        vertical-align: middle;\n",
              "    }\n",
              "\n",
              "    .dataframe tbody tr th {\n",
              "        vertical-align: top;\n",
              "    }\n",
              "\n",
              "    .dataframe thead th {\n",
              "        text-align: right;\n",
              "    }\n",
              "</style>\n",
              "<table border=\"1\" class=\"dataframe\">\n",
              "  <thead>\n",
              "    <tr style=\"text-align: right;\">\n",
              "      <th></th>\n",
              "      <th>MSSubClass</th>\n",
              "      <th>LotFrontage</th>\n",
              "      <th>LotArea</th>\n",
              "      <th>OverallQual</th>\n",
              "      <th>OverallCond</th>\n",
              "      <th>YearBuilt</th>\n",
              "      <th>YearRemodAdd</th>\n",
              "      <th>MasVnrArea</th>\n",
              "      <th>BsmtFinSF1</th>\n",
              "      <th>BsmtFinSF2</th>\n",
              "      <th>BsmtUnfSF</th>\n",
              "      <th>TotalBsmtSF</th>\n",
              "      <th>1stFlrSF</th>\n",
              "      <th>2ndFlrSF</th>\n",
              "      <th>LowQualFinSF</th>\n",
              "      <th>GrLivArea</th>\n",
              "      <th>BsmtFullBath</th>\n",
              "      <th>BsmtHalfBath</th>\n",
              "      <th>FullBath</th>\n",
              "      <th>HalfBath</th>\n",
              "      <th>BedroomAbvGr</th>\n",
              "      <th>KitchenAbvGr</th>\n",
              "      <th>TotRmsAbvGrd</th>\n",
              "      <th>Fireplaces</th>\n",
              "      <th>GarageYrBlt</th>\n",
              "      <th>GarageCars</th>\n",
              "      <th>GarageArea</th>\n",
              "      <th>WoodDeckSF</th>\n",
              "      <th>OpenPorchSF</th>\n",
              "      <th>EnclosedPorch</th>\n",
              "      <th>3SsnPorch</th>\n",
              "      <th>ScreenPorch</th>\n",
              "      <th>PoolArea</th>\n",
              "      <th>MiscVal</th>\n",
              "      <th>MoSold</th>\n",
              "      <th>YrSold</th>\n",
              "      <th>SalePrice</th>\n",
              "    </tr>\n",
              "  </thead>\n",
              "  <tbody>\n",
              "    <tr>\n",
              "      <th>count</th>\n",
              "      <td>1460.000000</td>\n",
              "      <td>1201.000000</td>\n",
              "      <td>1460.000000</td>\n",
              "      <td>1460.000000</td>\n",
              "      <td>1460.000000</td>\n",
              "      <td>1460.000000</td>\n",
              "      <td>1460.000000</td>\n",
              "      <td>1452.000000</td>\n",
              "      <td>1460.000000</td>\n",
              "      <td>1460.000000</td>\n",
              "      <td>1460.000000</td>\n",
              "      <td>1460.000000</td>\n",
              "      <td>1460.000000</td>\n",
              "      <td>1460.000000</td>\n",
              "      <td>1460.000000</td>\n",
              "      <td>1460.000000</td>\n",
              "      <td>1460.000000</td>\n",
              "      <td>1460.000000</td>\n",
              "      <td>1460.000000</td>\n",
              "      <td>1460.000000</td>\n",
              "      <td>1460.000000</td>\n",
              "      <td>1460.000000</td>\n",
              "      <td>1460.000000</td>\n",
              "      <td>1460.000000</td>\n",
              "      <td>1379.000000</td>\n",
              "      <td>1460.000000</td>\n",
              "      <td>1460.000000</td>\n",
              "      <td>1460.000000</td>\n",
              "      <td>1460.000000</td>\n",
              "      <td>1460.000000</td>\n",
              "      <td>1460.000000</td>\n",
              "      <td>1460.000000</td>\n",
              "      <td>1460.000000</td>\n",
              "      <td>1460.000000</td>\n",
              "      <td>1460.000000</td>\n",
              "      <td>1460.000000</td>\n",
              "      <td>1460.000000</td>\n",
              "    </tr>\n",
              "    <tr>\n",
              "      <th>mean</th>\n",
              "      <td>56.897260</td>\n",
              "      <td>70.049958</td>\n",
              "      <td>10516.828082</td>\n",
              "      <td>6.099315</td>\n",
              "      <td>5.575342</td>\n",
              "      <td>1971.267808</td>\n",
              "      <td>1984.865753</td>\n",
              "      <td>103.685262</td>\n",
              "      <td>443.639726</td>\n",
              "      <td>46.549315</td>\n",
              "      <td>567.240411</td>\n",
              "      <td>1057.429452</td>\n",
              "      <td>1162.626712</td>\n",
              "      <td>346.992466</td>\n",
              "      <td>5.844521</td>\n",
              "      <td>1515.463699</td>\n",
              "      <td>0.425342</td>\n",
              "      <td>0.057534</td>\n",
              "      <td>1.565068</td>\n",
              "      <td>0.382877</td>\n",
              "      <td>2.866438</td>\n",
              "      <td>1.046575</td>\n",
              "      <td>6.517808</td>\n",
              "      <td>0.613014</td>\n",
              "      <td>1978.506164</td>\n",
              "      <td>1.767123</td>\n",
              "      <td>472.980137</td>\n",
              "      <td>94.244521</td>\n",
              "      <td>46.660274</td>\n",
              "      <td>21.954110</td>\n",
              "      <td>3.409589</td>\n",
              "      <td>15.060959</td>\n",
              "      <td>2.758904</td>\n",
              "      <td>43.489041</td>\n",
              "      <td>6.321918</td>\n",
              "      <td>2007.815753</td>\n",
              "      <td>180921.195890</td>\n",
              "    </tr>\n",
              "    <tr>\n",
              "      <th>std</th>\n",
              "      <td>42.300571</td>\n",
              "      <td>24.284752</td>\n",
              "      <td>9981.264932</td>\n",
              "      <td>1.382997</td>\n",
              "      <td>1.112799</td>\n",
              "      <td>30.202904</td>\n",
              "      <td>20.645407</td>\n",
              "      <td>181.066207</td>\n",
              "      <td>456.098091</td>\n",
              "      <td>161.319273</td>\n",
              "      <td>441.866955</td>\n",
              "      <td>438.705324</td>\n",
              "      <td>386.587738</td>\n",
              "      <td>436.528436</td>\n",
              "      <td>48.623081</td>\n",
              "      <td>525.480383</td>\n",
              "      <td>0.518911</td>\n",
              "      <td>0.238753</td>\n",
              "      <td>0.550916</td>\n",
              "      <td>0.502885</td>\n",
              "      <td>0.815778</td>\n",
              "      <td>0.220338</td>\n",
              "      <td>1.625393</td>\n",
              "      <td>0.644666</td>\n",
              "      <td>24.689725</td>\n",
              "      <td>0.747315</td>\n",
              "      <td>213.804841</td>\n",
              "      <td>125.338794</td>\n",
              "      <td>66.256028</td>\n",
              "      <td>61.119149</td>\n",
              "      <td>29.317331</td>\n",
              "      <td>55.757415</td>\n",
              "      <td>40.177307</td>\n",
              "      <td>496.123024</td>\n",
              "      <td>2.703626</td>\n",
              "      <td>1.328095</td>\n",
              "      <td>79442.502883</td>\n",
              "    </tr>\n",
              "    <tr>\n",
              "      <th>min</th>\n",
              "      <td>20.000000</td>\n",
              "      <td>21.000000</td>\n",
              "      <td>1300.000000</td>\n",
              "      <td>1.000000</td>\n",
              "      <td>1.000000</td>\n",
              "      <td>1872.000000</td>\n",
              "      <td>1950.000000</td>\n",
              "      <td>0.000000</td>\n",
              "      <td>0.000000</td>\n",
              "      <td>0.000000</td>\n",
              "      <td>0.000000</td>\n",
              "      <td>0.000000</td>\n",
              "      <td>334.000000</td>\n",
              "      <td>0.000000</td>\n",
              "      <td>0.000000</td>\n",
              "      <td>334.000000</td>\n",
              "      <td>0.000000</td>\n",
              "      <td>0.000000</td>\n",
              "      <td>0.000000</td>\n",
              "      <td>0.000000</td>\n",
              "      <td>0.000000</td>\n",
              "      <td>0.000000</td>\n",
              "      <td>2.000000</td>\n",
              "      <td>0.000000</td>\n",
              "      <td>1900.000000</td>\n",
              "      <td>0.000000</td>\n",
              "      <td>0.000000</td>\n",
              "      <td>0.000000</td>\n",
              "      <td>0.000000</td>\n",
              "      <td>0.000000</td>\n",
              "      <td>0.000000</td>\n",
              "      <td>0.000000</td>\n",
              "      <td>0.000000</td>\n",
              "      <td>0.000000</td>\n",
              "      <td>1.000000</td>\n",
              "      <td>2006.000000</td>\n",
              "      <td>34900.000000</td>\n",
              "    </tr>\n",
              "    <tr>\n",
              "      <th>25%</th>\n",
              "      <td>20.000000</td>\n",
              "      <td>59.000000</td>\n",
              "      <td>7553.500000</td>\n",
              "      <td>5.000000</td>\n",
              "      <td>5.000000</td>\n",
              "      <td>1954.000000</td>\n",
              "      <td>1967.000000</td>\n",
              "      <td>0.000000</td>\n",
              "      <td>0.000000</td>\n",
              "      <td>0.000000</td>\n",
              "      <td>223.000000</td>\n",
              "      <td>795.750000</td>\n",
              "      <td>882.000000</td>\n",
              "      <td>0.000000</td>\n",
              "      <td>0.000000</td>\n",
              "      <td>1129.500000</td>\n",
              "      <td>0.000000</td>\n",
              "      <td>0.000000</td>\n",
              "      <td>1.000000</td>\n",
              "      <td>0.000000</td>\n",
              "      <td>2.000000</td>\n",
              "      <td>1.000000</td>\n",
              "      <td>5.000000</td>\n",
              "      <td>0.000000</td>\n",
              "      <td>1961.000000</td>\n",
              "      <td>1.000000</td>\n",
              "      <td>334.500000</td>\n",
              "      <td>0.000000</td>\n",
              "      <td>0.000000</td>\n",
              "      <td>0.000000</td>\n",
              "      <td>0.000000</td>\n",
              "      <td>0.000000</td>\n",
              "      <td>0.000000</td>\n",
              "      <td>0.000000</td>\n",
              "      <td>5.000000</td>\n",
              "      <td>2007.000000</td>\n",
              "      <td>129975.000000</td>\n",
              "    </tr>\n",
              "    <tr>\n",
              "      <th>50%</th>\n",
              "      <td>50.000000</td>\n",
              "      <td>69.000000</td>\n",
              "      <td>9478.500000</td>\n",
              "      <td>6.000000</td>\n",
              "      <td>5.000000</td>\n",
              "      <td>1973.000000</td>\n",
              "      <td>1994.000000</td>\n",
              "      <td>0.000000</td>\n",
              "      <td>383.500000</td>\n",
              "      <td>0.000000</td>\n",
              "      <td>477.500000</td>\n",
              "      <td>991.500000</td>\n",
              "      <td>1087.000000</td>\n",
              "      <td>0.000000</td>\n",
              "      <td>0.000000</td>\n",
              "      <td>1464.000000</td>\n",
              "      <td>0.000000</td>\n",
              "      <td>0.000000</td>\n",
              "      <td>2.000000</td>\n",
              "      <td>0.000000</td>\n",
              "      <td>3.000000</td>\n",
              "      <td>1.000000</td>\n",
              "      <td>6.000000</td>\n",
              "      <td>1.000000</td>\n",
              "      <td>1980.000000</td>\n",
              "      <td>2.000000</td>\n",
              "      <td>480.000000</td>\n",
              "      <td>0.000000</td>\n",
              "      <td>25.000000</td>\n",
              "      <td>0.000000</td>\n",
              "      <td>0.000000</td>\n",
              "      <td>0.000000</td>\n",
              "      <td>0.000000</td>\n",
              "      <td>0.000000</td>\n",
              "      <td>6.000000</td>\n",
              "      <td>2008.000000</td>\n",
              "      <td>163000.000000</td>\n",
              "    </tr>\n",
              "    <tr>\n",
              "      <th>75%</th>\n",
              "      <td>70.000000</td>\n",
              "      <td>80.000000</td>\n",
              "      <td>11601.500000</td>\n",
              "      <td>7.000000</td>\n",
              "      <td>6.000000</td>\n",
              "      <td>2000.000000</td>\n",
              "      <td>2004.000000</td>\n",
              "      <td>166.000000</td>\n",
              "      <td>712.250000</td>\n",
              "      <td>0.000000</td>\n",
              "      <td>808.000000</td>\n",
              "      <td>1298.250000</td>\n",
              "      <td>1391.250000</td>\n",
              "      <td>728.000000</td>\n",
              "      <td>0.000000</td>\n",
              "      <td>1776.750000</td>\n",
              "      <td>1.000000</td>\n",
              "      <td>0.000000</td>\n",
              "      <td>2.000000</td>\n",
              "      <td>1.000000</td>\n",
              "      <td>3.000000</td>\n",
              "      <td>1.000000</td>\n",
              "      <td>7.000000</td>\n",
              "      <td>1.000000</td>\n",
              "      <td>2002.000000</td>\n",
              "      <td>2.000000</td>\n",
              "      <td>576.000000</td>\n",
              "      <td>168.000000</td>\n",
              "      <td>68.000000</td>\n",
              "      <td>0.000000</td>\n",
              "      <td>0.000000</td>\n",
              "      <td>0.000000</td>\n",
              "      <td>0.000000</td>\n",
              "      <td>0.000000</td>\n",
              "      <td>8.000000</td>\n",
              "      <td>2009.000000</td>\n",
              "      <td>214000.000000</td>\n",
              "    </tr>\n",
              "    <tr>\n",
              "      <th>max</th>\n",
              "      <td>190.000000</td>\n",
              "      <td>313.000000</td>\n",
              "      <td>215245.000000</td>\n",
              "      <td>10.000000</td>\n",
              "      <td>9.000000</td>\n",
              "      <td>2010.000000</td>\n",
              "      <td>2010.000000</td>\n",
              "      <td>1600.000000</td>\n",
              "      <td>5644.000000</td>\n",
              "      <td>1474.000000</td>\n",
              "      <td>2336.000000</td>\n",
              "      <td>6110.000000</td>\n",
              "      <td>4692.000000</td>\n",
              "      <td>2065.000000</td>\n",
              "      <td>572.000000</td>\n",
              "      <td>5642.000000</td>\n",
              "      <td>3.000000</td>\n",
              "      <td>2.000000</td>\n",
              "      <td>3.000000</td>\n",
              "      <td>2.000000</td>\n",
              "      <td>8.000000</td>\n",
              "      <td>3.000000</td>\n",
              "      <td>14.000000</td>\n",
              "      <td>3.000000</td>\n",
              "      <td>2010.000000</td>\n",
              "      <td>4.000000</td>\n",
              "      <td>1418.000000</td>\n",
              "      <td>857.000000</td>\n",
              "      <td>547.000000</td>\n",
              "      <td>552.000000</td>\n",
              "      <td>508.000000</td>\n",
              "      <td>480.000000</td>\n",
              "      <td>738.000000</td>\n",
              "      <td>15500.000000</td>\n",
              "      <td>12.000000</td>\n",
              "      <td>2010.000000</td>\n",
              "      <td>755000.000000</td>\n",
              "    </tr>\n",
              "  </tbody>\n",
              "</table>\n",
              "</div>"
            ],
            "text/plain": [
              "        MSSubClass  LotFrontage  ...       YrSold      SalePrice\n",
              "count  1460.000000  1201.000000  ...  1460.000000    1460.000000\n",
              "mean     56.897260    70.049958  ...  2007.815753  180921.195890\n",
              "std      42.300571    24.284752  ...     1.328095   79442.502883\n",
              "min      20.000000    21.000000  ...  2006.000000   34900.000000\n",
              "25%      20.000000    59.000000  ...  2007.000000  129975.000000\n",
              "50%      50.000000    69.000000  ...  2008.000000  163000.000000\n",
              "75%      70.000000    80.000000  ...  2009.000000  214000.000000\n",
              "max     190.000000   313.000000  ...  2010.000000  755000.000000\n",
              "\n",
              "[8 rows x 37 columns]"
            ]
          },
          "metadata": {
            "tags": []
          },
          "execution_count": 9
        }
      ]
    },
    {
      "cell_type": "code",
      "metadata": {
        "colab": {
          "base_uri": "https://localhost:8080/",
          "height": 404
        },
        "id": "shwdapMG6wHy",
        "outputId": "ab3be0a5-c88b-42ca-94bd-6bd91e9f4119"
      },
      "source": [
        "#Visualize the house sale price distribution\n",
        "plt.figure(figsize=(12, 6))\n",
        "plt.title('Fig. 0. Distribution of sale price.')\n",
        "plt.xlabel('Sale price')\n",
        "plt.ylabel('Frequency')\n",
        "fig0 = sns.histplot(x=train_data.SalePrice, kde=True)\n"
      ],
      "execution_count": 10,
      "outputs": [
        {
          "output_type": "display_data",
          "data": {
            "image/png": "[encoded data removed]",
            "text/plain": [
              "<Figure size 864x432 with 1 Axes>"
            ]
          },
          "metadata": {
            "tags": [],
            "needs_background": "light"
          }
        }
      ]
    },
    {
      "cell_type": "code",
      "metadata": {
        "colab": {
          "base_uri": "https://localhost:8080/",
          "height": 195
        },
        "id": "p8C0aqOO6zbC",
        "outputId": "5f2716ed-5d9d-45aa-fa4d-04803fbd46ca"
      },
      "source": [
        "#Brief summary of categorical columns\n",
        "train_data.describe(include=['O'])"
      ],
      "execution_count": 11,
      "outputs": [
        {
          "output_type": "execute_result",
          "data": {
            "text/html": [
              "<div>\n",
              "<style scoped>\n",
              "    .dataframe tbody tr th:only-of-type {\n",
              "        vertical-align: middle;\n",
              "    }\n",
              "\n",
              "    .dataframe tbody tr th {\n",
              "        vertical-align: top;\n",
              "    }\n",
              "\n",
              "    .dataframe thead th {\n",
              "        text-align: right;\n",
              "    }\n",
              "</style>\n",
              "<table border=\"1\" class=\"dataframe\">\n",
              "  <thead>\n",
              "    <tr style=\"text-align: right;\">\n",
              "      <th></th>\n",
              "      <th>MSZoning</th>\n",
              "      <th>Street</th>\n",
              "      <th>Alley</th>\n",
              "      <th>LotShape</th>\n",
              "      <th>LandContour</th>\n",
              "      <th>Utilities</th>\n",
              "      <th>LotConfig</th>\n",
              "      <th>LandSlope</th>\n",
              "      <th>Neighborhood</th>\n",
              "      <th>Condition1</th>\n",
              "      <th>Condition2</th>\n",
              "      <th>BldgType</th>\n",
              "      <th>HouseStyle</th>\n",
              "      <th>RoofStyle</th>\n",
              "      <th>RoofMatl</th>\n",
              "      <th>Exterior1st</th>\n",
              "      <th>Exterior2nd</th>\n",
              "      <th>MasVnrType</th>\n",
              "      <th>ExterQual</th>\n",
              "      <th>ExterCond</th>\n",
              "      <th>Foundation</th>\n",
              "      <th>BsmtQual</th>\n",
              "      <th>BsmtCond</th>\n",
              "      <th>BsmtExposure</th>\n",
              "      <th>BsmtFinType1</th>\n",
              "      <th>BsmtFinType2</th>\n",
              "      <th>Heating</th>\n",
              "      <th>HeatingQC</th>\n",
              "      <th>CentralAir</th>\n",
              "      <th>Electrical</th>\n",
              "      <th>KitchenQual</th>\n",
              "      <th>Functional</th>\n",
              "      <th>FireplaceQu</th>\n",
              "      <th>GarageType</th>\n",
              "      <th>GarageFinish</th>\n",
              "      <th>GarageQual</th>\n",
              "      <th>GarageCond</th>\n",
              "      <th>PavedDrive</th>\n",
              "      <th>PoolQC</th>\n",
              "      <th>Fence</th>\n",
              "      <th>MiscFeature</th>\n",
              "      <th>SaleType</th>\n",
              "      <th>SaleCondition</th>\n",
              "    </tr>\n",
              "  </thead>\n",
              "  <tbody>\n",
              "    <tr>\n",
              "      <th>count</th>\n",
              "      <td>1460</td>\n",
              "      <td>1460</td>\n",
              "      <td>91</td>\n",
              "      <td>1460</td>\n",
              "      <td>1460</td>\n",
              "      <td>1460</td>\n",
              "      <td>1460</td>\n",
              "      <td>1460</td>\n",
              "      <td>1460</td>\n",
              "      <td>1460</td>\n",
              "      <td>1460</td>\n",
              "      <td>1460</td>\n",
              "      <td>1460</td>\n",
              "      <td>1460</td>\n",
              "      <td>1460</td>\n",
              "      <td>1460</td>\n",
              "      <td>1460</td>\n",
              "      <td>1452</td>\n",
              "      <td>1460</td>\n",
              "      <td>1460</td>\n",
              "      <td>1460</td>\n",
              "      <td>1423</td>\n",
              "      <td>1423</td>\n",
              "      <td>1422</td>\n",
              "      <td>1423</td>\n",
              "      <td>1422</td>\n",
              "      <td>1460</td>\n",
              "      <td>1460</td>\n",
              "      <td>1460</td>\n",
              "      <td>1459</td>\n",
              "      <td>1460</td>\n",
              "      <td>1460</td>\n",
              "      <td>770</td>\n",
              "      <td>1379</td>\n",
              "      <td>1379</td>\n",
              "      <td>1379</td>\n",
              "      <td>1379</td>\n",
              "      <td>1460</td>\n",
              "      <td>7</td>\n",
              "      <td>281</td>\n",
              "      <td>54</td>\n",
              "      <td>1460</td>\n",
              "      <td>1460</td>\n",
              "    </tr>\n",
              "    <tr>\n",
              "      <th>unique</th>\n",
              "      <td>5</td>\n",
              "      <td>2</td>\n",
              "      <td>2</td>\n",
              "      <td>4</td>\n",
              "      <td>4</td>\n",
              "      <td>2</td>\n",
              "      <td>5</td>\n",
              "      <td>3</td>\n",
              "      <td>25</td>\n",
              "      <td>9</td>\n",
              "      <td>8</td>\n",
              "      <td>5</td>\n",
              "      <td>8</td>\n",
              "      <td>6</td>\n",
              "      <td>8</td>\n",
              "      <td>15</td>\n",
              "      <td>16</td>\n",
              "      <td>4</td>\n",
              "      <td>4</td>\n",
              "      <td>5</td>\n",
              "      <td>6</td>\n",
              "      <td>4</td>\n",
              "      <td>4</td>\n",
              "      <td>4</td>\n",
              "      <td>6</td>\n",
              "      <td>6</td>\n",
              "      <td>6</td>\n",
              "      <td>5</td>\n",
              "      <td>2</td>\n",
              "      <td>5</td>\n",
              "      <td>4</td>\n",
              "      <td>7</td>\n",
              "      <td>5</td>\n",
              "      <td>6</td>\n",
              "      <td>3</td>\n",
              "      <td>5</td>\n",
              "      <td>5</td>\n",
              "      <td>3</td>\n",
              "      <td>3</td>\n",
              "      <td>4</td>\n",
              "      <td>4</td>\n",
              "      <td>9</td>\n",
              "      <td>6</td>\n",
              "    </tr>\n",
              "    <tr>\n",
              "      <th>top</th>\n",
              "      <td>RL</td>\n",
              "      <td>Pave</td>\n",
              "      <td>Grvl</td>\n",
              "      <td>Reg</td>\n",
              "      <td>Lvl</td>\n",
              "      <td>AllPub</td>\n",
              "      <td>Inside</td>\n",
              "      <td>Gtl</td>\n",
              "      <td>NAmes</td>\n",
              "      <td>Norm</td>\n",
              "      <td>Norm</td>\n",
              "      <td>1Fam</td>\n",
              "      <td>1Story</td>\n",
              "      <td>Gable</td>\n",
              "      <td>CompShg</td>\n",
              "      <td>VinylSd</td>\n",
              "      <td>VinylSd</td>\n",
              "      <td>None</td>\n",
              "      <td>TA</td>\n",
              "      <td>TA</td>\n",
              "      <td>PConc</td>\n",
              "      <td>TA</td>\n",
              "      <td>TA</td>\n",
              "      <td>No</td>\n",
              "      <td>Unf</td>\n",
              "      <td>Unf</td>\n",
              "      <td>GasA</td>\n",
              "      <td>Ex</td>\n",
              "      <td>Y</td>\n",
              "      <td>SBrkr</td>\n",
              "      <td>TA</td>\n",
              "      <td>Typ</td>\n",
              "      <td>Gd</td>\n",
              "      <td>Attchd</td>\n",
              "      <td>Unf</td>\n",
              "      <td>TA</td>\n",
              "      <td>TA</td>\n",
              "      <td>Y</td>\n",
              "      <td>Gd</td>\n",
              "      <td>MnPrv</td>\n",
              "      <td>Shed</td>\n",
              "      <td>WD</td>\n",
              "      <td>Normal</td>\n",
              "    </tr>\n",
              "    <tr>\n",
              "      <th>freq</th>\n",
              "      <td>1151</td>\n",
              "      <td>1454</td>\n",
              "      <td>50</td>\n",
              "      <td>925</td>\n",
              "      <td>1311</td>\n",
              "      <td>1459</td>\n",
              "      <td>1052</td>\n",
              "      <td>1382</td>\n",
              "      <td>225</td>\n",
              "      <td>1260</td>\n",
              "      <td>1445</td>\n",
              "      <td>1220</td>\n",
              "      <td>726</td>\n",
              "      <td>1141</td>\n",
              "      <td>1434</td>\n",
              "      <td>515</td>\n",
              "      <td>504</td>\n",
              "      <td>864</td>\n",
              "      <td>906</td>\n",
              "      <td>1282</td>\n",
              "      <td>647</td>\n",
              "      <td>649</td>\n",
              "      <td>1311</td>\n",
              "      <td>953</td>\n",
              "      <td>430</td>\n",
              "      <td>1256</td>\n",
              "      <td>1428</td>\n",
              "      <td>741</td>\n",
              "      <td>1365</td>\n",
              "      <td>1334</td>\n",
              "      <td>735</td>\n",
              "      <td>1360</td>\n",
              "      <td>380</td>\n",
              "      <td>870</td>\n",
              "      <td>605</td>\n",
              "      <td>1311</td>\n",
              "      <td>1326</td>\n",
              "      <td>1340</td>\n",
              "      <td>3</td>\n",
              "      <td>157</td>\n",
              "      <td>49</td>\n",
              "      <td>1267</td>\n",
              "      <td>1198</td>\n",
              "    </tr>\n",
              "  </tbody>\n",
              "</table>\n",
              "</div>"
            ],
            "text/plain": [
              "       MSZoning Street Alley LotShape  ...  Fence MiscFeature SaleType SaleCondition\n",
              "count      1460   1460    91     1460  ...    281          54     1460          1460\n",
              "unique        5      2     2        4  ...      4           4        9             6\n",
              "top          RL   Pave  Grvl      Reg  ...  MnPrv        Shed       WD        Normal\n",
              "freq       1151   1454    50      925  ...    157          49     1267          1198\n",
              "\n",
              "[4 rows x 43 columns]"
            ]
          },
          "metadata": {
            "tags": []
          },
          "execution_count": 11
        }
      ]
    },
    {
      "cell_type": "code",
      "metadata": {
        "colab": {
          "base_uri": "https://localhost:8080/"
        },
        "id": "NQqW9y2S659I",
        "outputId": "5af17d4d-3788-4766-9de6-8e66cd6580df"
      },
      "source": [
        "#Identify columns with 'NaN' values and count the NaNs (train set)\n",
        "train_data.isnull().sum()[train_data.isna().sum() != 0]"
      ],
      "execution_count": 12,
      "outputs": [
        {
          "output_type": "execute_result",
          "data": {
            "text/plain": [
              "LotFrontage      259\n",
              "Alley           1369\n",
              "MasVnrType         8\n",
              "MasVnrArea         8\n",
              "BsmtQual          37\n",
              "BsmtCond          37\n",
              "BsmtExposure      38\n",
              "BsmtFinType1      37\n",
              "BsmtFinType2      38\n",
              "Electrical         1\n",
              "FireplaceQu      690\n",
              "GarageType        81\n",
              "GarageYrBlt       81\n",
              "GarageFinish      81\n",
              "GarageQual        81\n",
              "GarageCond        81\n",
              "PoolQC          1453\n",
              "Fence           1179\n",
              "MiscFeature     1406\n",
              "dtype: int64"
            ]
          },
          "metadata": {
            "tags": []
          },
          "execution_count": 12
        }
      ]
    },
    {
      "cell_type": "code",
      "metadata": {
        "colab": {
          "base_uri": "https://localhost:8080/"
        },
        "id": "sKUxSM0P6-ah",
        "outputId": "3b1bd587-dbd5-436d-b77f-5a845f541d25"
      },
      "source": [
        "#Identify columns with 'NaN' values and count the NaNs (test set)\n",
        "test_data.isna().sum()[test_data.isna().sum() != 0]"
      ],
      "execution_count": 13,
      "outputs": [
        {
          "output_type": "execute_result",
          "data": {
            "text/plain": [
              "MSZoning           4\n",
              "LotFrontage      227\n",
              "Alley           1352\n",
              "Utilities          2\n",
              "Exterior1st        1\n",
              "Exterior2nd        1\n",
              "MasVnrType        16\n",
              "MasVnrArea        15\n",
              "BsmtQual          44\n",
              "BsmtCond          45\n",
              "BsmtExposure      44\n",
              "BsmtFinType1      42\n",
              "BsmtFinSF1         1\n",
              "BsmtFinType2      42\n",
              "BsmtFinSF2         1\n",
              "BsmtUnfSF          1\n",
              "TotalBsmtSF        1\n",
              "BsmtFullBath       2\n",
              "BsmtHalfBath       2\n",
              "KitchenQual        1\n",
              "Functional         2\n",
              "FireplaceQu      730\n",
              "GarageType        76\n",
              "GarageYrBlt       78\n",
              "GarageFinish      78\n",
              "GarageCars         1\n",
              "GarageArea         1\n",
              "GarageQual        78\n",
              "GarageCond        78\n",
              "PoolQC          1456\n",
              "Fence           1169\n",
              "MiscFeature     1408\n",
              "SaleType           1\n",
              "dtype: int64"
            ]
          },
          "metadata": {
            "tags": []
          },
          "execution_count": 13
        }
      ]
    },
    {
      "cell_type": "code",
      "metadata": {
        "id": "py-GaStT8Beu"
      },
      "source": [
        "#Train/test dataset columns with missing values (sorted in an ascending order of NA entries)\n",
        "train_data_na_cols = train_data.isna().sum().sort_values()[train_data.isna().sum() != 0].index\n",
        "test_data_na_cols = test_data.isna().sum().sort_values()[test_data.isna().sum() != 0].index"
      ],
      "execution_count": 14,
      "outputs": []
    },
    {
      "cell_type": "code",
      "metadata": {
        "colab": {
          "base_uri": "https://localhost:8080/",
          "height": 452
        },
        "id": "SPOA7Kru8NJN",
        "outputId": "3eeaf737-6a30-4b03-c9b4-637c7790a6c8"
      },
      "source": [
        "#Visualize missing entries in the train dataset  \n",
        "plt.figure(figsize=(15,6))\n",
        "\n",
        "fig1 = sns.heatmap(train_data.isna()[train_data_na_cols], yticklabels = False, \n",
        "                   cbar = False, cmap=\"viridis\")\n",
        "plt.ylabel('');\n",
        "fig1.set(title = \"Fig. 1. Columns with missing entries from the train dataset.\");"
      ],
      "execution_count": 15,
      "outputs": [
        {
          "output_type": "display_data",
          "data": {
            "image/png": "[encoded data removed]",
            "text/plain": [
              "<Figure size 1080x432 with 1 Axes>"
            ]
          },
          "metadata": {
            "tags": [],
            "needs_background": "light"
          }
        }
      ]
    },
    {
      "cell_type": "code",
      "metadata": {
        "colab": {
          "base_uri": "https://localhost:8080/",
          "height": 452
        },
        "id": "1ToP8Pt-8Sc7",
        "outputId": "0437fc63-56e4-478a-c7cc-d8747ed5d3ec"
      },
      "source": [
        "#Visualize missing entries in the test dataset  \n",
        "plt.figure(figsize=(15,6))\n",
        "\n",
        "fig2 = sns.heatmap(test_data.isna()[test_data_na_cols], yticklabels = False, \n",
        "                   cbar = False, cmap=\"viridis\")\n",
        "plt.ylabel('');\n",
        "fig2.set(title = \"Fig. 2. Columns with missing entries from the test dataset.\");"
      ],
      "execution_count": 16,
      "outputs": [
        {
          "output_type": "display_data",
          "data": {
            "image/png": "[encoded data removed]",
            "text/plain": [
              "<Figure size 1080x432 with 1 Axes>"
            ]
          },
          "metadata": {
            "tags": [],
            "needs_background": "light"
          }
        }
      ]
    },
    {
      "cell_type": "markdown",
      "metadata": {
        "id": "DeTSXI0h9DGi"
      },
      "source": [
        "We can see that there is a significant portion of missing values in both the training and testing datasets. However, as we will see later on, most of the missing values can be imputed in a clever way, meaning that the actual values can be deduced from the information provided in columns that don't contain missing entries.\n",
        "\n",
        "### Supplemental lists of features\n",
        "In this subsection we create supplemental lists of features that we will be using for a clever imputation of missing data."
      ]
    },
    {
      "cell_type": "code",
      "metadata": {
        "colab": {
          "base_uri": "https://localhost:8080/"
        },
        "id": "JDkjchh_8euy",
        "outputId": "1889e95f-b96b-48e5-fb2b-ed39bfe230ae"
      },
      "source": [
        "num_cols = [col for col in train_data.columns if train_data[col].dtype in ['int64', 'float64']] #數字\n",
        "\n",
        "#Numerical columns without 'SalePrice' and 'LotFrontage'\n",
        "num_cols_no_SPLF = [col for col in num_cols if col not in ['SalePrice', 'LotFrontage']]\n",
        "\n",
        "cat_cols = [col for col in train_data.columns if train_data[col].dtype == 'object'] #非數字\n",
        "\n",
        "all_cols = cat_cols + num_cols #非數字和數字相加\n",
        "\n",
        "#Print out the total number of columns to make sure that nothing is missing\n",
        "print(f'The total number of columns: {len(all_cols)}.')\n",
        "print(f'Expected number of columns: {train_data.shape[1]}.')"
      ],
      "execution_count": 17,
      "outputs": [
        {
          "output_type": "stream",
          "text": [
            "The total number of columns: 80.\n",
            "Expected number of columns: 80.\n"
          ],
          "name": "stdout"
        }
      ]
    },
    {
      "cell_type": "code",
      "metadata": {
        "id": "_7dE8nev9JB4"
      },
      "source": [
        "#Create lists of garage-related numerical and categorical features  \n",
        "gar_num_cols = ['GarageYrBlt','GarageCars','GarageArea']\n",
        "gar_cat_cols = ['GarageType','GarageFinish','GarageQual','GarageCond']\n",
        "gar_cols = gar_num_cols + gar_cat_cols"
      ],
      "execution_count": 18,
      "outputs": []
    },
    {
      "cell_type": "code",
      "metadata": {
        "id": "iu2RUQxS9dz9"
      },
      "source": [
        "#Create lists of basement-related numerical and categorical features  \n",
        "bsmt_num_cols = ['BsmtFinSF1', 'BsmtFinSF2', 'BsmtUnfSF', \n",
        "                 'TotalBsmtSF','BsmtFullBath','BsmtHalfBath']\n",
        "bsmt_cat_cols = ['BsmtQual', 'BsmtCond', 'BsmtExposure', \n",
        "                 'BsmtFinType1', 'BsmtFinType2']\n",
        "bsmt_cols = bsmt_num_cols + bsmt_cat_cols"
      ],
      "execution_count": 19,
      "outputs": []
    },
    {
      "cell_type": "markdown",
      "metadata": {
        "id": "5zdnKI7L9vbk"
      },
      "source": [
        "### General assesment of correlations/associations \n",
        "Here, we will peform a general assesment of correlation/assosiation between the 'SalePrice' column and rest of the features. The 'SalePrice' is a numerical column, whereas the other 79 columns are either numerical or categorical. This means, we will need to analyze 2 different types of association/correlation: 1) a numerical-numerical correlation and 2) a categorical-numerical association."
      ]
    },
    {
      "cell_type": "markdown",
      "metadata": {
        "id": "-Chod9fa98H_"
      },
      "source": [
        "To estimate the corresponding associations/correlations, we will use the dython library (see this link and this kaggle notebook for more examples). The dython library enables one to evaluate the following:\n",
        "\n",
        "The `categorical-categorical` feature association (e.g. using the Theil's U measure).<br>\n",
        "The `numerical-categorical` feature association (using the correlation ratio measure called Eta).<br>\n",
        "The `numerical-numerical` correlation (using the Pearson's R measure).<br>"
      ]
    },
    {
      "cell_type": "code",
      "metadata": {
        "colab": {
          "base_uri": "https://localhost:8080/"
        },
        "id": "PzePSxQhKylB",
        "outputId": "2623a199-16d4-4f97-94ec-1ad4f09eaa12"
      },
      "source": [
        "pip install dython"
      ],
      "execution_count": 20,
      "outputs": [
        {
          "output_type": "stream",
          "text": [
            "Requirement already satisfied: dython in /usr/local/lib/python3.7/dist-packages (0.6.7)\n",
            "Requirement already satisfied: scipy in /usr/local/lib/python3.7/dist-packages (from dython) (1.4.1)\n",
            "Requirement already satisfied: pandas>=0.23.4 in /usr/local/lib/python3.7/dist-packages (from dython) (1.1.5)\n",
            "Requirement already satisfied: scikit-plot>=0.3.7 in /usr/local/lib/python3.7/dist-packages (from dython) (0.3.7)\n",
            "Requirement already satisfied: scikit-learn in /usr/local/lib/python3.7/dist-packages (from dython) (0.22.2.post1)\n",
            "Requirement already satisfied: matplotlib in /usr/local/lib/python3.7/dist-packages (from dython) (3.2.2)\n",
            "Requirement already satisfied: numpy in /usr/local/lib/python3.7/dist-packages (from dython) (1.19.5)\n",
            "Requirement already satisfied: seaborn in /usr/local/lib/python3.7/dist-packages (from dython) (0.11.1)\n",
            "Requirement already satisfied: python-dateutil>=2.7.3 in /usr/local/lib/python3.7/dist-packages (from pandas>=0.23.4->dython) (2.8.1)\n",
            "Requirement already satisfied: pytz>=2017.2 in /usr/local/lib/python3.7/dist-packages (from pandas>=0.23.4->dython) (2018.9)\n",
            "Requirement already satisfied: six>=1.5 in /usr/local/lib/python3.7/dist-packages (from python-dateutil>=2.7.3->pandas>=0.23.4->dython) (1.15.0)\n",
            "Requirement already satisfied: joblib>=0.10 in /usr/local/lib/python3.7/dist-packages (from scikit-plot>=0.3.7->dython) (1.0.1)\n",
            "Requirement already satisfied: pyparsing!=2.0.4,!=2.1.2,!=2.1.6,>=2.0.1 in /usr/local/lib/python3.7/dist-packages (from matplotlib->dython) (2.4.7)\n",
            "Requirement already satisfied: cycler>=0.10 in /usr/local/lib/python3.7/dist-packages (from matplotlib->dython) (0.10.0)\n",
            "Requirement already satisfied: kiwisolver>=1.0.1 in /usr/local/lib/python3.7/dist-packages (from matplotlib->dython) (1.3.1)\n"
          ],
          "name": "stdout"
        }
      ]
    },
    {
      "cell_type": "code",
      "metadata": {
        "colab": {
          "base_uri": "https://localhost:8080/",
          "height": 238
        },
        "id": "NNvB3OzQ9r9q",
        "outputId": "e2bbc538-c97f-4ce4-e50d-6858003e453d"
      },
      "source": [
        "from dython.nominal import compute_associations\n",
        "\n",
        "#Compute numerical-numerical correlations\n",
        "num_corr_table = compute_associations(train_data[num_cols])\n",
        "\n",
        "#Visualize correlations\n",
        "plt.subplots(figsize=(15,2))\n",
        "fig3 = sns.heatmap(num_corr_table[['SalePrice']].sort_values(by=['SalePrice']).T)\n",
        "fig3.set(title = \"Fig. 3. Corelations between 'SalePrice' and the rest of numerical features.\");"
      ],
      "execution_count": 21,
      "outputs": [
        {
          "output_type": "display_data",
          "data": {
            "image/png": "[encoded data removed]",
            "text/plain": [
              "<Figure size 1080x144 with 2 Axes>"
            ]
          },
          "metadata": {
            "tags": [],
            "needs_background": "light"
          }
        }
      ]
    },
    {
      "cell_type": "code",
      "metadata": {
        "colab": {
          "base_uri": "https://localhost:8080/",
          "height": 234
        },
        "id": "zcYscmBdKNgo",
        "outputId": "f26e39e8-94fd-42fc-e8d4-235cf09ab99d"
      },
      "source": [
        "#Add 'SalePrice' to the list of categorical features for the data visualisation purposes\n",
        "cat_cols.append('SalePrice')\n",
        "\n",
        "#Compute numerical-categorical feature associations\n",
        "numcat_assoc_table = compute_associations(train_data[cat_cols])\n",
        "\n",
        "#Visualize associations\n",
        "plt.subplots(figsize=(15,2))\n",
        "fig4 = sns.heatmap(numcat_assoc_table[['SalePrice']].sort_values(by=['SalePrice']).T)\n",
        "fig4.set(title = \"Fig. 4. Associations between 'SalePrice' and categorical features.\")\n",
        "\n",
        "#Remove 'SalePrice' from the list of categorical features\n",
        "cat_cols.pop();"
      ],
      "execution_count": 22,
      "outputs": [
        {
          "output_type": "display_data",
          "data": {
            "image/png": "[encoded data removed]",
            "text/plain": [
              "<Figure size 1080x144 with 2 Axes>"
            ]
          },
          "metadata": {
            "tags": [],
            "needs_background": "light"
          }
        }
      ]
    },
    {
      "cell_type": "markdown",
      "metadata": {
        "id": "ILjQFzsvLwCO"
      },
      "source": [
        "We notice that most of the features that contain missing values in the train/test dataset have a strong degree of association/correlation with 'SalePrice'. This means that we should carefully impute the corresponding missing values, as they may have a significant impact on the predictions of our model."
      ]
    },
    {
      "cell_type": "markdown",
      "metadata": {
        "id": "JFZ-NiKKL464"
      },
      "source": [
        "## Data imputation\n",
        "##### In order to better understand the data imputation strategy discussed below, one may need to look up occasionaly the \"Data Description\" information for the housing-prices dataset provided here.\n",
        "\n",
        "### Basement-related features\n",
        "We will start with imputing the basement-related features. First, we will visualize the corresponding data and notice that, for example, the hight of a basement ('BsmtQual') and its area ('TotalBsmtSF') have a strong association/correlation with the price of a house.\n",
        "\n"
      ]
    },
    {
      "cell_type": "code",
      "metadata": {
        "colab": {
          "base_uri": "https://localhost:8080/",
          "height": 234
        },
        "id": "hgq8vTK-LXuV",
        "outputId": "58f306fa-add5-4d4d-8427-b6e9968eb8ac"
      },
      "source": [
        "#Add 'SalePrice' to the list of basement-related features for the data visualisation purposes\n",
        "bsmt_cols.append('SalePrice')\n",
        "\n",
        "#Compute associations\n",
        "bsmt_assoc_table = compute_associations(train_data[bsmt_cols])\n",
        "\n",
        "#Visualize associations\n",
        "plt.subplots(figsize=(15,2))\n",
        "fig5 = sns.heatmap(bsmt_assoc_table[['SalePrice']].sort_values(by=['SalePrice']).T)\n",
        "fig5.set(title = \"Fig. 5. Associations between 'SalePrice' and basement-related features.\");\n",
        "bsmt_cols.pop();"
      ],
      "execution_count": 23,
      "outputs": [
        {
          "output_type": "display_data",
          "data": {
            "image/png": "[encoded data removed]",
            "text/plain": [
              "<Figure size 1080x144 with 2 Axes>"
            ]
          },
          "metadata": {
            "tags": [],
            "needs_background": "light"
          }
        }
      ]
    },
    {
      "cell_type": "code",
      "metadata": {
        "id": "DFTnDJxYMTZF"
      },
      "source": [
        "#Before imputing the data, we create a copy of the train and test datasets\n",
        "train_data_imp = train_data.copy() \n",
        "test_data_imp = test_data.copy()"
      ],
      "execution_count": 24,
      "outputs": []
    },
    {
      "cell_type": "code",
      "metadata": {
        "id": "uPvZfiyoMbm6"
      },
      "source": [
        "#Locate the rows with a basement area = 0 (meaning there are no basements) \n",
        "#and replace the corresponding 'NaN' values of the garage categorical columns with 'NoBsmt'\n",
        "train_data_imp.loc[train_data_imp['TotalBsmtSF'] == 0, bsmt_cat_cols] = \\\n",
        "train_data_imp.loc[train_data_imp['TotalBsmtSF'] == 0, bsmt_cat_cols].fillna(value = 'NoBsmt')\n",
        "\n",
        "test_data_imp.loc[test_data_imp['TotalBsmtSF'] == 0, bsmt_cat_cols] = \\\n",
        "test_data_imp.loc[test_data_imp['TotalBsmtSF'] == 0, bsmt_cat_cols].fillna(value = 'NoBsmt')"
      ],
      "execution_count": 25,
      "outputs": []
    },
    {
      "cell_type": "code",
      "metadata": {
        "colab": {
          "base_uri": "https://localhost:8080/"
        },
        "id": "VkctFPN1MfjM",
        "outputId": "4fced037-f687-4604-dfdc-a544d1c81bdb"
      },
      "source": [
        "#Count remaining 'NaN' values in the basement-related columns in the train set\n",
        "train_data_imp[bsmt_cols].isna().sum()[train_data_imp[bsmt_cols].isna().sum() != 0]"
      ],
      "execution_count": 26,
      "outputs": [
        {
          "output_type": "execute_result",
          "data": {
            "text/plain": [
              "BsmtExposure    1\n",
              "BsmtFinType2    1\n",
              "dtype: int64"
            ]
          },
          "metadata": {
            "tags": []
          },
          "execution_count": 26
        }
      ]
    },
    {
      "cell_type": "code",
      "metadata": {
        "colab": {
          "base_uri": "https://localhost:8080/"
        },
        "id": "rdGvle21M7Fo",
        "outputId": "f32b73db-bfdf-4244-8a50-c59990e2a337"
      },
      "source": [
        "#Count remaining 'NaN' values in the basement-related columns in the test set\n",
        "test_data_imp[bsmt_cols].isna().sum()[test_data_imp[bsmt_cols].isna().sum() != 0]"
      ],
      "execution_count": 27,
      "outputs": [
        {
          "output_type": "execute_result",
          "data": {
            "text/plain": [
              "BsmtFinSF1      1\n",
              "BsmtFinSF2      1\n",
              "BsmtUnfSF       1\n",
              "TotalBsmtSF     1\n",
              "BsmtFullBath    2\n",
              "BsmtHalfBath    2\n",
              "BsmtQual        3\n",
              "BsmtCond        4\n",
              "BsmtExposure    3\n",
              "BsmtFinType1    1\n",
              "BsmtFinType2    1\n",
              "dtype: int64"
            ]
          },
          "metadata": {
            "tags": []
          },
          "execution_count": 27
        }
      ]
    },
    {
      "cell_type": "markdown",
      "metadata": {
        "id": "_f7TCoLzNQZd"
      },
      "source": [
        "One can see that most of the missing values in the basement-related features have been fixed.\n",
        "\n",
        "### Garage-related features\n",
        "In a similar fashion, we will fix most of the 'NaN' values in the garage-related columns."
      ]
    },
    {
      "cell_type": "code",
      "metadata": {
        "colab": {
          "base_uri": "https://localhost:8080/",
          "height": 173
        },
        "id": "5OOlxKkNNHGe",
        "outputId": "02c83d32-9645-4d79-b9f0-f2b0c3ab18bc"
      },
      "source": [
        "#Add 'SalePrice' to the list of garage-related features for the data visualisation purposes\n",
        "gar_cols.append('SalePrice')\n",
        "\n",
        "#Compute associations\n",
        "gar_assoc_table = compute_associations(train_data[gar_cols])\n",
        "\n",
        "#Visualize associations\n",
        "plt.subplots(figsize=(15,2))\n",
        "fig6 = sns.heatmap(gar_assoc_table[['SalePrice']].sort_values(by=['SalePrice']).T)\n",
        "fig6.set(title = \"Fig. 6. Associations between 'SalePrice' and garage-related features.\");\n",
        "gar_cols.pop();"
      ],
      "execution_count": 28,
      "outputs": [
        {
          "output_type": "display_data",
          "data": {
            "image/png": "[encoded data removed]",
            "text/plain": [
              "<Figure size 1080x144 with 2 Axes>"
            ]
          },
          "metadata": {
            "tags": [],
            "needs_background": "light"
          }
        }
      ]
    },
    {
      "cell_type": "code",
      "metadata": {
        "id": "0kb2axIMNWoD"
      },
      "source": [
        "#Locate the rows with a garage area = 0 (meaning there are no garages in such houses) \n",
        "#and replace the corresponding 'NaN' categorical values with 'NoGarage'\n",
        "train_data_imp.loc[train_data_imp.GarageArea == 0, gar_cat_cols] = \\\n",
        "train_data_imp.loc[train_data_imp.GarageArea == 0, gar_cat_cols].fillna(value = 'NoGarage')\n",
        "\n",
        "test_data_imp.loc[test_data_imp.GarageArea == 0, gar_cat_cols] = \\\n",
        "test_data_imp.loc[test_data_imp.GarageArea == 0, gar_cat_cols].fillna(value = 'NoGarage')\n",
        "\n",
        "#When there is no garage, then replace the 'NaN' values in the 'GarageYrBlt' column with 0\n",
        "train_data_imp.loc[train_data_imp.GarageArea == 0, 'GarageYrBlt'] = \\\n",
        "train_data_imp.loc[train_data_imp.GarageArea == 0, 'GarageYrBlt'].fillna(value = 0)\n",
        "\n",
        "test_data_imp.loc[test_data_imp.GarageArea == 0, 'GarageYrBlt'] = \\\n",
        "test_data_imp.loc[test_data_imp.GarageArea == 0, 'GarageYrBlt'].fillna(value = 0)"
      ],
      "execution_count": 29,
      "outputs": []
    },
    {
      "cell_type": "code",
      "metadata": {
        "colab": {
          "base_uri": "https://localhost:8080/"
        },
        "id": "BF8nGaCLRujs",
        "outputId": "b560cc42-9cb8-4688-e351-42fafcb16a87"
      },
      "source": [
        "#Count remaining 'NaN' values in the garage-related columns in the train set\n",
        "train_data_imp[gar_cols].isna().sum()[train_data_imp[gar_cols].isna().sum() != 0]"
      ],
      "execution_count": 30,
      "outputs": [
        {
          "output_type": "execute_result",
          "data": {
            "text/plain": [
              "Series([], dtype: int64)"
            ]
          },
          "metadata": {
            "tags": []
          },
          "execution_count": 30
        }
      ]
    },
    {
      "cell_type": "code",
      "metadata": {
        "colab": {
          "base_uri": "https://localhost:8080/"
        },
        "id": "2OljVUyvSEax",
        "outputId": "230fc273-971f-4489-fd1c-4cd243045ffd"
      },
      "source": [
        "#Count remaining 'NaN' values in the basement-related columns in the test set\n",
        "test_data_imp[gar_cols].isna().sum()[test_data_imp[gar_cols].isna().sum() != 0]"
      ],
      "execution_count": 31,
      "outputs": [
        {
          "output_type": "execute_result",
          "data": {
            "text/plain": [
              "GarageYrBlt     2\n",
              "GarageCars      1\n",
              "GarageArea      1\n",
              "GarageFinish    2\n",
              "GarageQual      2\n",
              "GarageCond      2\n",
              "dtype: int64"
            ]
          },
          "metadata": {
            "tags": []
          },
          "execution_count": 31
        }
      ]
    },
    {
      "cell_type": "markdown",
      "metadata": {
        "id": "5Fku4XBXSL25"
      },
      "source": [
        "One can see that most of the missing values in the garage-related features have been fixed, as well.\n",
        "\n",
        "## Fireplace-, pool-, miscellaneous-, fence-, and alley-related features\n",
        "In this subsection we will impute the rest of the missing values whose values may be deduced from the information provided in columns that don't contain missing entries.\n",
        "**在本小節中，我們將估算其餘的缺失值，其值可以從不包含缺失條目的列中提供的信息中推導出來。**\n",
        "\n",
        "First, we will consider the fireplace-, pool-, and miscallaneous-related features. We notice that 'FireplaceQu', 'PoolQC', and 'MiscFeature' contain significant amount of missing values. These values can be imputed using the following strategy: when the number of fireplaces ('Fireplaces')/the pool area ('PoolArea')/the number of miscellaneous features ('MiscVal') equals to 0, then the corresponding 'NaN' values in the 'FireplaceQu'/'PoolQC'/'MiscFeature' column indicate that the corresponding house did not contain such a feature.\n",
        "\n",
        "\n",
        "**(首先，我們將考慮與壁爐、游泳池和雜項相關的功能。我們注意到“FireplaceQu”、“PoolQC”和“MiscFeature”包含大量缺失值。可以使用以下策略來估算這些值：當壁爐數量 ('Fireplaces')/泳池面積 ('PoolArea')/雜項功能數量 ('MiscVal') 等於 0 時，則對應的 'NaN' 'FireplaceQu'/'PoolQC'/'MiscFeature' 列中的值表示相應的房子不包含這樣的特徵。)**"
      ]
    },
    {
      "cell_type": "markdown",
      "metadata": {
        "id": "dtI3PoJQSy9a"
      },
      "source": [
        "Since the imputation strategy for these 3 columns is identical, it is convenient to define a general function that will be performing such an imputation"
      ]
    },
    {
      "cell_type": "code",
      "metadata": {
        "id": "N4I62HidSGzK"
      },
      "source": [
        "def replace_na_values(check_column, nan_column, replace_value):\n",
        "    train_data_imp.loc[(train_data_imp[nan_column].isna()) & \n",
        "                   (train_data_imp[check_column] == 0), nan_column] = replace_value\n",
        "    test_data_imp.loc[(test_data_imp[nan_column].isna()) & \n",
        "                   (test_data_imp[check_column] == 0), nan_column] = replace_value"
      ],
      "execution_count": 32,
      "outputs": []
    },
    {
      "cell_type": "code",
      "metadata": {
        "id": "VBSRixt0S3A-"
      },
      "source": [
        "#Impute the fireplace-, pool-, and miscellaneous-related features\n",
        "replace_na_values('Fireplaces', 'FireplaceQu', 'NoFireplace')\n",
        "replace_na_values('PoolArea', 'PoolQC', 'NoPool')\n",
        "replace_na_values('MiscVal', 'MiscFeature', 'NoMisc')"
      ],
      "execution_count": 33,
      "outputs": []
    },
    {
      "cell_type": "markdown",
      "metadata": {
        "id": "X-X6zS-RTfqP"
      },
      "source": [
        "Now let's impute the missing values in 'Fence' and 'Alley' columns. The respective imputation strategy is even simpler than for the 'FireplaceQu'/'PoolQC'/'MiscFeature' columns. According to this description, the 'NaN' values in 'Fence' and 'Alley' columns are most likely due to the absence of the corresponding feature. Therefore, we will simply replace the coresponding NaNs by 'NoFence' or 'NoAlley'.\n",
        "\n",
        "現在讓我們估算“Fence”和“Alley”列中的缺失值。相應的插補策略甚至比 'FireplaceQu'/'PoolQC'/'MiscFeature' 列更簡單。根據此描述，“Fence”和“Alley”列中的“NaN”值最有可能是由於缺少相應的特徵。因此，我們將簡單地用“NoFence”或“NoAlley”替換相應的 NaN。"
      ]
    },
    {
      "cell_type": "code",
      "metadata": {
        "id": "g0i-EbSoS6by"
      },
      "source": [
        "#Replace NaN 'Fence' values\n",
        "train_data_imp.loc[train_data_imp['Fence'].isna(), 'Fence'] = 'NoFence'\n",
        "test_data_imp.loc[test_data_imp['Fence'].isna(), 'Fence'] = 'NoFence'\n",
        "\n",
        "#Replace NaN 'Alley' values\n",
        "train_data_imp.loc[train_data_imp['Alley'].isna(), 'Alley'] = 'NoAlley'\n",
        "test_data_imp.loc[test_data_imp['Alley'].isna(), 'Alley'] = 'NoAlley'"
      ],
      "execution_count": 34,
      "outputs": []
    },
    {
      "cell_type": "markdown",
      "metadata": {
        "id": "j_4iG6TiTyzl"
      },
      "source": [
        "## Rest of the features\n",
        "At this stage, none of the remaining 'NaN' values can be imputed in a clever manner. Luckily, most of the remaning columns contain only a few 'NaN' entries. The only exception is the 'LotFrontage' column, which contains significant number of NaNs. By taking a look at Fig. 3 and checking the correlation between 'LotFrontage' and 'SalePrice', we notice that the 'LotFrontage' feature is not strongly correlated with the 'SalePrice'. In addition, by checking here the feature description information, we notice that most likely the 'LotArea' column (by default) contains information about 'LotFrontage'. Therefore, we decide to remove the 'LotFrontage' column from our model training/prediction\n",
        "\n",
        "\n",
        "在這個階段，剩餘的“NaN”值都不能以巧妙的方式進行估算。幸運的是，大多數剩餘的列只包含幾個“NaN”條目。唯一的例外是“LotFrontage”列，其中包含大量 NaN。通過查看圖 3 並檢查“LotFrontage”和“SalePrice”之間的相關性，我們注意到“LotFrontage”特徵與“SalePrice”的相關性並不強。此外，通過在此處檢查特徵描述信息，我們注意到“LotArea”列（默認情況下）很可能包含有關“LotFrontage”的信息。因此，我們決定從我們的模型訓練/預測中刪除“LotFrontage”列"
      ]
    },
    {
      "cell_type": "code",
      "metadata": {
        "id": "Rx0iddAeTvFX"
      },
      "source": [
        "train_data_imp.drop(['LotFrontage'], axis=1, inplace=True)\n",
        "test_data_imp.drop(['LotFrontage'], axis=1, inplace=True)"
      ],
      "execution_count": 35,
      "outputs": []
    },
    {
      "cell_type": "code",
      "metadata": {
        "colab": {
          "base_uri": "https://localhost:8080/"
        },
        "id": "tJqK6ucGUBpk",
        "outputId": "3086f7b8-7b16-405c-d29a-e8bbb952e7fa"
      },
      "source": [
        "#Identify columns with 'NaN' values and count NaNs (train set)\n",
        "train_data_imp.isna().sum()[train_data_imp.isna().sum() != 0]"
      ],
      "execution_count": 36,
      "outputs": [
        {
          "output_type": "execute_result",
          "data": {
            "text/plain": [
              "MasVnrType      8\n",
              "MasVnrArea      8\n",
              "BsmtExposure    1\n",
              "BsmtFinType2    1\n",
              "Electrical      1\n",
              "dtype: int64"
            ]
          },
          "metadata": {
            "tags": []
          },
          "execution_count": 36
        }
      ]
    },
    {
      "cell_type": "code",
      "metadata": {
        "colab": {
          "base_uri": "https://localhost:8080/"
        },
        "id": "tBcFEXeJUDpl",
        "outputId": "518227b5-aaed-41ee-83ba-cd76d50426da"
      },
      "source": [
        "test_data_imp.isna().sum()[test_data_imp.isna().sum() != 0]"
      ],
      "execution_count": 37,
      "outputs": [
        {
          "output_type": "execute_result",
          "data": {
            "text/plain": [
              "MSZoning         4\n",
              "Utilities        2\n",
              "Exterior1st      1\n",
              "Exterior2nd      1\n",
              "MasVnrType      16\n",
              "MasVnrArea      15\n",
              "BsmtQual         3\n",
              "BsmtCond         4\n",
              "BsmtExposure     3\n",
              "BsmtFinType1     1\n",
              "BsmtFinSF1       1\n",
              "BsmtFinType2     1\n",
              "BsmtFinSF2       1\n",
              "BsmtUnfSF        1\n",
              "TotalBsmtSF      1\n",
              "BsmtFullBath     2\n",
              "BsmtHalfBath     2\n",
              "KitchenQual      1\n",
              "Functional       2\n",
              "GarageYrBlt      2\n",
              "GarageFinish     2\n",
              "GarageCars       1\n",
              "GarageArea       1\n",
              "GarageQual       2\n",
              "GarageCond       2\n",
              "PoolQC           3\n",
              "MiscFeature      1\n",
              "SaleType         1\n",
              "dtype: int64"
            ]
          },
          "metadata": {
            "tags": []
          },
          "execution_count": 37
        }
      ]
    },
    {
      "cell_type": "code",
      "metadata": {
        "id": "pysU-IllUGx3"
      },
      "source": [
        "#Train/test dataset columns with missing values (sorted in an ascending order of NA entries)\n",
        "train_data_imp_na_cols = train_data_imp.isna().sum().sort_values()\\\n",
        "                         [train_data_imp.isna().sum() != 0].index\n",
        "test_data_imp_na_cols = test_data_imp.isna().sum().sort_values()\\\n",
        "                        [test_data_imp.isna().sum() != 0].index"
      ],
      "execution_count": 38,
      "outputs": []
    },
    {
      "cell_type": "code",
      "metadata": {
        "colab": {
          "base_uri": "https://localhost:8080/",
          "height": 444
        },
        "id": "D76OLQ4PUJx0",
        "outputId": "2fc46c1a-f224-4816-c065-957e8caaf734"
      },
      "source": [
        "#Visualize missing entries in the train dataset after implementing the imputation  \n",
        "plt.figure(figsize=(15,7))\n",
        "\n",
        "fig7 = sns.heatmap(train_data_imp.isna()[train_data_imp_na_cols], yticklabels = False, \n",
        "                   cbar = False, cmap=\"viridis\")\n",
        "plt.ylabel('');\n",
        "fig7.set(title = \"Fig. 7. Train dataset columns with missing entries after imputation.\");"
      ],
      "execution_count": 39,
      "outputs": [
        {
          "output_type": "display_data",
          "data": {
            "image/png": "[encoded data removed]",
            "text/plain": [
              "<Figure size 1080x504 with 1 Axes>"
            ]
          },
          "metadata": {
            "tags": [],
            "needs_background": "light"
          }
        }
      ]
    },
    {
      "cell_type": "code",
      "metadata": {
        "colab": {
          "base_uri": "https://localhost:8080/",
          "height": 506
        },
        "id": "Z7VE0rrzUPqF",
        "outputId": "60641935-bc1c-4a6c-f83f-a8bd2c9e448c"
      },
      "source": [
        "#Visualize missing entries in the test dataset after implementing the imputation  \n",
        "plt.figure(figsize=(15,7))\n",
        "\n",
        "fig8 = sns.heatmap(test_data_imp.isna()[test_data_imp_na_cols], yticklabels = False, \n",
        "                   cbar = False, cmap=\"viridis\")\n",
        "plt.ylabel('');\n",
        "fig8.set(title = \"Fig. 8. Test dataset columns with missing entries after imputation.\");"
      ],
      "execution_count": 40,
      "outputs": [
        {
          "output_type": "display_data",
          "data": {
            "image/png": "[encoded data removed]",
            "text/plain": [
              "<Figure size 1080x504 with 1 Axes>"
            ]
          },
          "metadata": {
            "tags": [],
            "needs_background": "light"
          }
        }
      ]
    },
    {
      "cell_type": "markdown",
      "metadata": {
        "id": "Q9X274WIUcy5"
      },
      "source": [
        "Now we can see that all the remaining columns with 'NaN' values contain only a few NaNs, which can be safely imputed using one of the standard imputers."
      ]
    },
    {
      "cell_type": "markdown",
      "metadata": {
        "id": "IVSmuWL5UgYi"
      },
      "source": [
        "### Preparation of ordinal categorical data for label encoding\n",
        "In this section, we will prepare our categorical columns for model training/prediction. We note that our dataset contains 2 types of categorical columns:\n",
        "\n",
        "* Ordinal (when the column has a clear ordering of categories)\n",
        "* Nominal (when the column has no clear ordering of categories).<br>\n",
        "\n",
        "We will use the ordinal encoding strategy for ordinal columns and the one-hot encoding strategy for nominal columns. Check out this and this Kaggle tutorials for more details.\n",
        "\n",
        "The categories of ordinal data need to be properly ordered, so that the ordinal encoder assigns them proper numerical values. The corresponding values can be deduced from this data description information. For example, an entry in the 'LotShape' column can take the following values: Reg, IR1, IR2, or IR3. We want the ordinal encoder to assign them the values 3, 2, 1, 0, respectively (and not vice versa!!!).\n",
        "\n",
        "Below we prepare our data for ordinal and one-hot encodings."
      ]
    },
    {
      "cell_type": "code",
      "metadata": {
        "colab": {
          "base_uri": "https://localhost:8080/"
        },
        "id": "Xjqwc1PUUSBa",
        "outputId": "87b1f5c2-0dc8-4799-e985-060d91d4ac47"
      },
      "source": [
        "#Create a list of ordinal categorical features\n",
        "cat_cols_ordinal = ['LotShape', 'LandContour', 'Utilities', 'LandSlope', \n",
        "                    'ExterQual', 'ExterCond', 'BsmtCond', 'BsmtExposure',\n",
        "                    'BsmtFinType1', 'BsmtFinType2', 'HeatingQC', 'CentralAir',\n",
        "                    'KitchenQual', 'Functional', 'FireplaceQu', 'GarageFinish', \n",
        "                    'GarageQual', 'GarageCond', 'PavedDrive', 'PoolQC', 'BsmtQual']\n",
        "\n",
        "#Create a list of nominal categorical features\n",
        "cat_cols_onehot = [x for x in cat_cols if x not in cat_cols_ordinal]\n",
        "\n",
        "print(f'The number of ordinal categorical columns: {len(cat_cols_ordinal)}.')\n",
        "print(f'The number of nominal categorical columns: {len(cat_cols_onehot)}.')\n",
        "print(f'The total expected number of categorical columns: {len(cat_cols)}.')"
      ],
      "execution_count": 41,
      "outputs": [
        {
          "output_type": "stream",
          "text": [
            "The number of ordinal categorical columns: 21.\n",
            "The number of nominal categorical columns: 22.\n",
            "The total expected number of categorical columns: 43.\n"
          ],
          "name": "stdout"
        }
      ]
    },
    {
      "cell_type": "code",
      "metadata": {
        "colab": {
          "base_uri": "https://localhost:8080/"
        },
        "id": "jXnHPV9_U2fs",
        "outputId": "bd127b5c-d619-49a3-eebb-34473ed42dc9"
      },
      "source": [
        "#Create a dictionary with ordinal categorical columns as keys \n",
        "#and corresponding categories as values\n",
        "ordinal_cols_dict = {}\n",
        "for col in cat_cols_ordinal:\n",
        "    ordinal_cols_dict[col] = train_data_imp[col].unique().tolist()\n",
        "ordinal_cols_dict"
      ],
      "execution_count": 44,
      "outputs": [
        {
          "output_type": "execute_result",
          "data": {
            "text/plain": [
              "{'BsmtCond': ['TA', 'Gd', 'NoBsmt', 'Fa', 'Po'],\n",
              " 'BsmtExposure': ['No', 'Gd', 'Mn', 'Av', 'NoBsmt', nan],\n",
              " 'BsmtFinType1': ['GLQ', 'ALQ', 'Unf', 'Rec', 'BLQ', 'NoBsmt', 'LwQ'],\n",
              " 'BsmtFinType2': ['Unf', 'BLQ', 'NoBsmt', 'ALQ', 'Rec', 'LwQ', 'GLQ', nan],\n",
              " 'BsmtQual': ['Gd', 'TA', 'Ex', 'NoBsmt', 'Fa'],\n",
              " 'CentralAir': ['Y', 'N'],\n",
              " 'ExterCond': ['TA', 'Gd', 'Fa', 'Po', 'Ex'],\n",
              " 'ExterQual': ['Gd', 'TA', 'Ex', 'Fa'],\n",
              " 'FireplaceQu': ['NoFireplace', 'TA', 'Gd', 'Fa', 'Ex', 'Po'],\n",
              " 'Functional': ['Typ', 'Min1', 'Maj1', 'Min2', 'Mod', 'Maj2', 'Sev'],\n",
              " 'GarageCond': ['TA', 'Fa', 'NoGarage', 'Gd', 'Po', 'Ex'],\n",
              " 'GarageFinish': ['RFn', 'Unf', 'Fin', 'NoGarage'],\n",
              " 'GarageQual': ['TA', 'Fa', 'Gd', 'NoGarage', 'Ex', 'Po'],\n",
              " 'HeatingQC': ['Ex', 'Gd', 'TA', 'Fa', 'Po'],\n",
              " 'KitchenQual': ['Gd', 'TA', 'Ex', 'Fa'],\n",
              " 'LandContour': ['Lvl', 'Bnk', 'Low', 'HLS'],\n",
              " 'LandSlope': ['Gtl', 'Mod', 'Sev'],\n",
              " 'LotShape': ['Reg', 'IR1', 'IR2', 'IR3'],\n",
              " 'PavedDrive': ['Y', 'N', 'P'],\n",
              " 'PoolQC': ['NoPool', 'Ex', 'Fa', 'Gd'],\n",
              " 'Utilities': ['AllPub', 'NoSeWa']}"
            ]
          },
          "metadata": {
            "tags": []
          },
          "execution_count": 44
        }
      ]
    },
    {
      "cell_type": "markdown",
      "metadata": {
        "id": "O6rikKFAVmEh"
      },
      "source": [
        "Below, let us consider a small example which illustrates how the **OrdinalEncoder** transforms a dataset. This example emphasizes that a proper ordering of the ordinal categories is required in order to assign them meaningful numerical values."
      ]
    },
    {
      "cell_type": "code",
      "metadata": {
        "colab": {
          "base_uri": "https://localhost:8080/"
        },
        "id": "fGvwxhMiVAcl",
        "outputId": "10e4802d-ad65-431e-8f3c-f1d761153bd3"
      },
      "source": [
        "from sklearn.preprocessing import OrdinalEncoder\n",
        "\n",
        "ex_data = [['Reg'], ['IR2'], ['IR1'], ['IR3']]\n",
        "#ex_data = np.asarray([['Reg'], ['IR2'], ['IR1'], ['IR3']])\n",
        "print('Example dataset before ordinal encoding: \\n', ex_data)\n",
        "#encoder = OrdinalEncoder()\n",
        "#encoder.fit_transform(X)\n",
        "\n",
        "#ord_enc = OrdinalEncoder(categories=[['Reg', 'IR1', 'IR2', 'IR3']])\n",
        "#encoder = OrdinalEncoder(categories=[[\"bad\", \"average\", \"good\"]])\n",
        "#encoder.fit_transform([[\"good\"], [\"bad\"], [\"bad\"], [\"average\"]])\n",
        "\n",
        "ord_enc = OrdinalEncoder(categories=[['Reg', 'IR1', 'IR2', 'IR3']])\n",
        "ex_data_transformed = ord_enc.fit_transform(ex_data)\n",
        "print('Example dataset after ordinal encoding (without proper ordering): \\n', \n",
        "      ex_data_transformed)"
      ],
      "execution_count": 49,
      "outputs": [
        {
          "output_type": "stream",
          "text": [
            "Example dataset before ordinal encoding: \n",
            " [['Reg'], ['IR2'], ['IR1'], ['IR3']]\n",
            "Example dataset after ordinal encoding (without proper ordering): \n",
            " [[0.]\n",
            " [2.]\n",
            " [1.]\n",
            " [3.]]\n"
          ],
          "name": "stdout"
        }
      ]
    },
    {
      "cell_type": "code",
      "metadata": {
        "colab": {
          "base_uri": "https://localhost:8080/"
        },
        "id": "ko3chkjnV0xt",
        "outputId": "c4a0dab1-9a5b-4894-d559-07aa88f64f52"
      },
      "source": [
        "#Perform a proper orgering of the corresponding categories\n",
        "ordinal_cols_dict['LotShape'] = ['IR3', 'IR2', 'IR1', 'Reg']\n",
        "ordinal_cols_dict['LandContour'] = ['Low', 'HLS', 'Bnk', 'Lvl']\n",
        "ordinal_cols_dict['Utilities'] = ['NoSeWa', 'AllPub']\n",
        "ordinal_cols_dict['LandSlope'] = ['Sev', 'Mod', 'Gtl']\n",
        "ordinal_cols_dict['ExterQual'] = ['Po', 'Fa', 'TA', 'Gd', 'Ex']\n",
        "ordinal_cols_dict['ExterCond'] = ['Po', 'Fa', 'TA', 'Gd', 'Ex']\n",
        "ordinal_cols_dict['BsmtCond'] = ['NoBsmt', 'Po', 'Fa', 'TA', 'Gd', 'Ex']\n",
        "ordinal_cols_dict['BsmtExposure'] = ['NoBsmt', 'No', 'Mn', 'Av', 'Gd']\n",
        "ordinal_cols_dict['BsmtFinType1'] = ['NoBsmt', 'Unf', 'LwQ', 'Rec', 'BLQ', 'ALQ', 'GLQ']\n",
        "ordinal_cols_dict['BsmtFinType2'] = ['NoBsmt', 'Unf', 'LwQ', 'Rec', 'BLQ', 'ALQ', 'GLQ']\n",
        "ordinal_cols_dict['HeatingQC'] = ['Po', 'Fa', 'TA', 'Gd', 'Ex']\n",
        "ordinal_cols_dict['CentralAir'] = ['N', 'Y']\n",
        "ordinal_cols_dict['KitchenQual'] = ['Po', 'Fa', 'TA', 'Gd', 'Ex']\n",
        "ordinal_cols_dict['Functional'] = ['Sev', 'Maj2', 'Maj1', 'Mod', 'Min2', 'Min1', 'Typ']\n",
        "ordinal_cols_dict['FireplaceQu'] = ['NoFireplace', 'Po', 'Fa', 'TA', 'Gd', 'Ex']\n",
        "ordinal_cols_dict['GarageFinish'] = ['NoGarage', 'Unf', 'RFn', 'Fin']\n",
        "ordinal_cols_dict['GarageQual'] = ['NoGarage', 'Po', 'Fa', 'TA', 'Gd', 'Ex']\n",
        "ordinal_cols_dict['GarageCond'] = ['NoGarage', 'Po', 'Fa', 'TA', 'Gd', 'Ex']\n",
        "ordinal_cols_dict['PavedDrive'] = ['N', 'P', 'Y']\n",
        "ordinal_cols_dict['PoolQC'] = ['NoPool','Po', 'Fa', 'TA', 'Gd', 'Ex']\n",
        "ordinal_cols_dict['BsmtQual'] = ['NoBsmt', 'Po', 'Fa', 'TA', 'Gd', 'Ex']\n",
        "ordinal_cols_dict"
      ],
      "execution_count": 50,
      "outputs": [
        {
          "output_type": "execute_result",
          "data": {
            "text/plain": [
              "{'BsmtCond': ['NoBsmt', 'Po', 'Fa', 'TA', 'Gd', 'Ex'],\n",
              " 'BsmtExposure': ['NoBsmt', 'No', 'Mn', 'Av', 'Gd'],\n",
              " 'BsmtFinType1': ['NoBsmt', 'Unf', 'LwQ', 'Rec', 'BLQ', 'ALQ', 'GLQ'],\n",
              " 'BsmtFinType2': ['NoBsmt', 'Unf', 'LwQ', 'Rec', 'BLQ', 'ALQ', 'GLQ'],\n",
              " 'BsmtQual': ['NoBsmt', 'Po', 'Fa', 'TA', 'Gd', 'Ex'],\n",
              " 'CentralAir': ['N', 'Y'],\n",
              " 'ExterCond': ['Po', 'Fa', 'TA', 'Gd', 'Ex'],\n",
              " 'ExterQual': ['Po', 'Fa', 'TA', 'Gd', 'Ex'],\n",
              " 'FireplaceQu': ['NoFireplace', 'Po', 'Fa', 'TA', 'Gd', 'Ex'],\n",
              " 'Functional': ['Sev', 'Maj2', 'Maj1', 'Mod', 'Min2', 'Min1', 'Typ'],\n",
              " 'GarageCond': ['NoGarage', 'Po', 'Fa', 'TA', 'Gd', 'Ex'],\n",
              " 'GarageFinish': ['NoGarage', 'Unf', 'RFn', 'Fin'],\n",
              " 'GarageQual': ['NoGarage', 'Po', 'Fa', 'TA', 'Gd', 'Ex'],\n",
              " 'HeatingQC': ['Po', 'Fa', 'TA', 'Gd', 'Ex'],\n",
              " 'KitchenQual': ['Po', 'Fa', 'TA', 'Gd', 'Ex'],\n",
              " 'LandContour': ['Low', 'HLS', 'Bnk', 'Lvl'],\n",
              " 'LandSlope': ['Sev', 'Mod', 'Gtl'],\n",
              " 'LotShape': ['IR3', 'IR2', 'IR1', 'Reg'],\n",
              " 'PavedDrive': ['N', 'P', 'Y'],\n",
              " 'PoolQC': ['NoPool', 'Po', 'Fa', 'TA', 'Gd', 'Ex'],\n",
              " 'Utilities': ['NoSeWa', 'AllPub']}"
            ]
          },
          "metadata": {
            "tags": []
          },
          "execution_count": 50
        }
      ]
    },
    {
      "cell_type": "code",
      "metadata": {
        "colab": {
          "base_uri": "https://localhost:8080/"
        },
        "id": "diFj5thtX58B",
        "outputId": "fddecc1a-44cb-4c85-9521-9b2e3e41ca99"
      },
      "source": [
        "#Create a list of ordered ordinal categories suitable for model-training in the subsequent section\n",
        "my_categories = list(ordinal_cols_dict.values())\n",
        "my_categories"
      ],
      "execution_count": 51,
      "outputs": [
        {
          "output_type": "execute_result",
          "data": {
            "text/plain": [
              "[['IR3', 'IR2', 'IR1', 'Reg'],\n",
              " ['Low', 'HLS', 'Bnk', 'Lvl'],\n",
              " ['NoSeWa', 'AllPub'],\n",
              " ['Sev', 'Mod', 'Gtl'],\n",
              " ['Po', 'Fa', 'TA', 'Gd', 'Ex'],\n",
              " ['Po', 'Fa', 'TA', 'Gd', 'Ex'],\n",
              " ['NoBsmt', 'Po', 'Fa', 'TA', 'Gd', 'Ex'],\n",
              " ['NoBsmt', 'No', 'Mn', 'Av', 'Gd'],\n",
              " ['NoBsmt', 'Unf', 'LwQ', 'Rec', 'BLQ', 'ALQ', 'GLQ'],\n",
              " ['NoBsmt', 'Unf', 'LwQ', 'Rec', 'BLQ', 'ALQ', 'GLQ'],\n",
              " ['Po', 'Fa', 'TA', 'Gd', 'Ex'],\n",
              " ['N', 'Y'],\n",
              " ['Po', 'Fa', 'TA', 'Gd', 'Ex'],\n",
              " ['Sev', 'Maj2', 'Maj1', 'Mod', 'Min2', 'Min1', 'Typ'],\n",
              " ['NoFireplace', 'Po', 'Fa', 'TA', 'Gd', 'Ex'],\n",
              " ['NoGarage', 'Unf', 'RFn', 'Fin'],\n",
              " ['NoGarage', 'Po', 'Fa', 'TA', 'Gd', 'Ex'],\n",
              " ['NoGarage', 'Po', 'Fa', 'TA', 'Gd', 'Ex'],\n",
              " ['N', 'P', 'Y'],\n",
              " ['NoPool', 'Po', 'Fa', 'TA', 'Gd', 'Ex'],\n",
              " ['NoBsmt', 'Po', 'Fa', 'TA', 'Gd', 'Ex']]"
            ]
          },
          "metadata": {
            "tags": []
          },
          "execution_count": 51
        }
      ]
    },
    {
      "cell_type": "code",
      "metadata": {
        "id": "RM8olc0YX-Sf"
      },
      "source": [
        "#Train dataset that is ready for model training/prediction\n",
        "y_train = train_data_imp.SalePrice\n",
        "train_data_imp.drop(['SalePrice'], axis=1, inplace=True)\n",
        "X_train_imp = train_data_imp.copy()\n",
        "\n",
        "#Test dataset that is ready for model training/prediction\n",
        "X_test_imp = test_data_imp.copy()\n"
      ],
      "execution_count": 52,
      "outputs": []
    },
    {
      "cell_type": "markdown",
      "metadata": {
        "id": "UlkwaMHyaHCb"
      },
      "source": [
        "## Model training, selection, and predictions\n",
        "### Data preprocessing\n",
        "Before we train our model and make predictions, we will first preprocess our categorical and numerical columns using the ColumnTransformer class of the sklearn.compose module and prepare the data for fitting a machine learning model. (Check out this turotial to learn more about keeping your data preprocessing and modeling code organized)\n",
        "\n",
        "在我們訓練模型並進行預測之前，我們將首先使用 sklearn.compose 模塊的 ColumnTransformer 類預處理我們的分類和數值列，並準備數據以擬合機器學習模型。 （查看此 turotial 以了解有關保持數據預處理和建模代碼井井有條的更多信息）"
      ]
    },
    {
      "cell_type": "code",
      "metadata": {
        "id": "xK7VMuIxYQFb"
      },
      "source": [
        "#Load required packages\n",
        "from sklearn.pipeline import Pipeline\n",
        "from sklearn.impute import SimpleImputer\n",
        "from sklearn.preprocessing import OrdinalEncoder, OneHotEncoder, StandardScaler\n",
        "from sklearn.compose import ColumnTransformer\n",
        "\n",
        "#Numerical and categorical columns transformation pipelines\n",
        "num_transformer = Pipeline(steps=[\n",
        "    ('num_imputer', SimpleImputer(strategy='median'))\n",
        "])\n",
        "\n",
        "cat_transformer_ordinal = Pipeline(steps=[\n",
        "    ('cat_ord_imputer', SimpleImputer(strategy='most_frequent')),\n",
        "    ('ordinal_transf', OrdinalEncoder(categories=my_categories))])\n",
        "       ##handle_unknown='use_encoded_value', \n",
        "       ##unknown_value=np.nan))\n",
        "##])\n",
        "\n",
        "cat_transformer_onehot = Pipeline(steps=[\n",
        "    ('cat_nom_imputer', SimpleImputer(strategy='most_frequent')),\n",
        "    ('onehot_transf', OneHotEncoder(handle_unknown='ignore'))\n",
        "])\n",
        "\n",
        "#Bundle preprocessing for numerical and categorical data\n",
        "preprocessor = ColumnTransformer(\n",
        "    transformers=[\n",
        "        ('num_simple', num_transformer, num_cols_no_SPLF),\n",
        "        ('cat_ordinal', cat_transformer_ordinal, cat_cols_ordinal),\n",
        "        ('cat_onehot', cat_transformer_onehot, cat_cols_onehot)\n",
        "])"
      ],
      "execution_count": 59,
      "outputs": []
    },
    {
      "cell_type": "markdown",
      "metadata": {
        "id": "bbWEcLijbXFO"
      },
      "source": [
        "### Model training\n",
        "In this subsection, we will fit different machine learning algorithms with our preprocessed data and choose the optimal parameters for each model. We will consider the following models:\n",
        "\n",
        "* Linear regression\n",
        "* Decision tree regressor\n",
        "* Random forest regressor\n",
        "* Gradient boosting regressor\n",
        "Linear regression"
      ]
    },
    {
      "cell_type": "markdown",
      "metadata": {
        "id": "vdGEYAetbm72"
      },
      "source": [
        "### Linear regression"
      ]
    },
    {
      "cell_type": "code",
      "metadata": {
        "colab": {
          "base_uri": "https://localhost:8080/"
        },
        "id": "tgpIZKVrabps",
        "outputId": "bdbe1091-65ed-4377-8fe7-8a9b207943f0"
      },
      "source": [
        "from sklearn.linear_model import LinearRegression\n",
        "from sklearn.model_selection import cross_val_score\n",
        "from sklearn.metrics import mean_absolute_error\n",
        "\n",
        "model_LR = LinearRegression()\n",
        "\n",
        "#Bundle preprocessing and modeling code in a pipeline\n",
        "pipeline_LR = Pipeline(steps=[('preprocessor', preprocessor), \n",
        "                               ('LR_model', model_LR)])\n",
        "\n",
        "#MAE score using cross validation\n",
        "scores = -1 * cross_val_score(pipeline_LR, X_train_imp, y_train,\n",
        "                              cv=5, scoring='neg_mean_absolute_error')\n",
        "\n",
        "print('MAE score for the Linear Regression:', np.mean(scores))"
      ],
      "execution_count": 60,
      "outputs": [
        {
          "output_type": "stream",
          "text": [
            "MAE score for the Linear Regression: 19928.77399855282\n"
          ],
          "name": "stdout"
        }
      ]
    },
    {
      "cell_type": "markdown",
      "metadata": {
        "id": "UoX_50dbdMcW"
      },
      "source": [
        "### Decision tree regressor"
      ]
    },
    {
      "cell_type": "code",
      "metadata": {
        "colab": {
          "base_uri": "https://localhost:8080/"
        },
        "id": "x3Qzow2bbpzy",
        "outputId": "02a02f34-984f-4f0a-acc6-4141befb4000"
      },
      "source": [
        "from sklearn.model_selection import GridSearchCV\n",
        "from sklearn.tree import DecisionTreeRegressor\n",
        "\n",
        "model_DTR = DecisionTreeRegressor()\n",
        "\n",
        "#Bundle preprocessing and modeling code in a pipeline\n",
        "pipeline_DTR = Pipeline(steps=[('preprocessor', preprocessor), \n",
        "                               ('DTR_model', model_DTR)])\n",
        "\n",
        "#Hyperparameter tuning implementation\n",
        "param_grid_DTR = {\n",
        "    'DTR_model__max_depth': [10, 20, 40], \n",
        "    'DTR_model__min_samples_leaf': [5, 10, 20], \n",
        "    'DTR_model__min_samples_split': [2, 5, 10],\n",
        "    'DTR_model__random_state': [10],\n",
        "}\n",
        "\n",
        "searchCV_DTR = GridSearchCV(pipeline_DTR, param_grid=param_grid_DTR,\n",
        "                            cv=5, scoring='neg_mean_absolute_error', n_jobs=-1)\n",
        "\n",
        "searchCV_DTR.fit(X_train_imp, y_train)\n",
        "print('Best parameters for the Decision Tree Regressor:')\n",
        "for parameter in searchCV_DTR.best_params_:\n",
        "    print (f'{parameter}: {searchCV_DTR.best_params_[parameter]}')\n",
        "      \n",
        "print('\\nBest MAE score for the Decision Tree Regressor: ',\n",
        "      searchCV_DTR.best_score_*(-1))"
      ],
      "execution_count": 61,
      "outputs": [
        {
          "output_type": "stream",
          "text": [
            "Best parameters for the Decision Tree Regressor:\n",
            "DTR_model__max_depth: 20\n",
            "DTR_model__min_samples_leaf: 10\n",
            "DTR_model__min_samples_split: 2\n",
            "DTR_model__random_state: 10\n",
            "\n",
            "Best MAE score for the Decision Tree Regressor:  23758.09018205948\n"
          ],
          "name": "stdout"
        }
      ]
    },
    {
      "cell_type": "markdown",
      "metadata": {
        "id": "_4ntPzT7etPu"
      },
      "source": [
        "### Random forest regressor"
      ]
    },
    {
      "cell_type": "code",
      "metadata": {
        "colab": {
          "base_uri": "https://localhost:8080/"
        },
        "id": "5_5dipeedPSJ",
        "outputId": "e22b2efc-ac06-445b-d7fd-b2a034ca67ea"
      },
      "source": [
        "from sklearn.ensemble import RandomForestRegressor\n",
        "\n",
        "model_RFR = RandomForestRegressor()\n",
        "\n",
        "#Bundle preprocessing and modeling code in a pipeline\n",
        "pipeline_RFR = Pipeline(steps=[('preprocessor', preprocessor), \n",
        "                               ('RFR_model', model_RFR)])\n",
        "\n",
        "#Hyperparameter tuning implementation 超參數 調音 執行(嘗試出最好的參數)\n",
        "param_grid_RFR = {\n",
        "    'RFR_model__n_estimators': [80, 100], \n",
        "    'RFR_model__max_depth': [15, 30],\n",
        "    'RFR_model__min_samples_split': [2, 5], \n",
        "    'RFR_model__random_state': [10],\n",
        "}\n",
        "\n",
        "searchCV_RFR = GridSearchCV(pipeline_RFR, param_grid=param_grid_RFR,\n",
        "                            cv=5, scoring='neg_mean_absolute_error', n_jobs=-1)\n",
        "\n",
        "searchCV_RFR.fit(X_train_imp, y_train)\n",
        "\n",
        "print('Best parameters for the Random Forest Regressor:')\n",
        "for parameter in searchCV_RFR.best_params_:\n",
        "    print (f'{parameter}: {searchCV_RFR.best_params_[parameter]}')\n",
        "    \n",
        "print('\\nBest MAE score for the Random Forest Regressor: ',\n",
        "      searchCV_RFR.best_score_*(-1))"
      ],
      "execution_count": 62,
      "outputs": [
        {
          "output_type": "stream",
          "text": [
            "Best parameters for the Random Forest Regressor:\n",
            "RFR_model__max_depth: 30\n",
            "RFR_model__min_samples_split: 2\n",
            "RFR_model__n_estimators: 80\n",
            "RFR_model__random_state: 10\n",
            "\n",
            "Best MAE score for the Random Forest Regressor:  17190.075368150683\n"
          ],
          "name": "stdout"
        }
      ]
    },
    {
      "cell_type": "markdown",
      "metadata": {
        "id": "1uzSDwKee6wD"
      },
      "source": [
        "### Gradient boosting regressor"
      ]
    },
    {
      "cell_type": "code",
      "metadata": {
        "colab": {
          "base_uri": "https://localhost:8080/"
        },
        "id": "fEb7MMN-ewot",
        "outputId": "73ce00bf-e820-40d3-e75d-a26274548f86"
      },
      "source": [
        "from xgboost import XGBRegressor\n",
        "\n",
        "model_XGBR = XGBRegressor()\n",
        "\n",
        "#Bundle preprocessing and modeling code in a pipeline\n",
        "pipeline_XGBR = Pipeline(steps=[('preprocessor', preprocessor),\n",
        "                                ('XGBR_model', model_XGBR)])\n",
        "\n",
        "#Hyperparameter tuning implementation\n",
        "#To speed up this block, non-optimal parameters are commented out\n",
        "param_grid = {\n",
        "    'XGBR_model__n_estimators': [1500], #[1000, 1250, 1500]\n",
        "    'XGBR_model__learning_rate': [0.07], #[0.07] [0.065, 0.07, 0.075],\n",
        "    'XGBR_model__max_depth': [2], #[2,5,10]\n",
        "    'XGBR_model__reg_alpha': [1], #[0, 0.5, 1, 5]\n",
        "    'XGBR_model__reg_lambda': [0.01], #[0, 0.05, 0.1, 1]\n",
        "    'XGBR_model__subsample': [0.95], #[0.5, 0.75, 0.9]\n",
        "    'XGBR_model__colsample_bytree': [0.5]\n",
        "}\n",
        "\n",
        "searchCV_XGBR = GridSearchCV(pipeline_XGBR, param_grid=param_grid,\n",
        "                             cv=5, scoring='neg_mean_absolute_error', n_jobs=-1)\n",
        "\n",
        "searchCV_XGBR.fit(X_train_imp, y_train)\n",
        "print('Best parameters for the XGBoosting Regressor:')\n",
        "for parameter in searchCV_XGBR.best_params_:\n",
        "    print (f'{parameter}: {searchCV_XGBR.best_params_[parameter]}')\n",
        "    \n",
        "print('Best MAE score for the XGBoosting Regressor:',\n",
        "      searchCV_XGBR.best_score_*(-1))"
      ],
      "execution_count": 63,
      "outputs": [
        {
          "output_type": "stream",
          "text": [
            "[08:30:03] WARNING: /workspace/src/objective/regression_obj.cu:152: reg:linear is now deprecated in favor of reg:squarederror.\n",
            "Best parameters for the XGBoosting Regressor:\n",
            "XGBR_model__colsample_bytree: 0.5\n",
            "XGBR_model__learning_rate: 0.07\n",
            "XGBR_model__max_depth: 2\n",
            "XGBR_model__n_estimators: 1500\n",
            "XGBR_model__reg_alpha: 1\n",
            "XGBR_model__reg_lambda: 0.01\n",
            "XGBR_model__subsample: 0.95\n",
            "Best MAE score for the XGBoosting Regressor: 14826.893014233734\n"
          ],
          "name": "stdout"
        }
      ]
    },
    {
      "cell_type": "markdown",
      "metadata": {
        "id": "NV_as4Mle_SX"
      },
      "source": [
        "### Model selection and predictions\n",
        "\n",
        "After testing four different regression models on cross validation data, we provide below a table that provides a summarizy of the mean absolute error scores achieved by these models. It is clear that the XGBoosting regressor performs the best on the cross validation data, and thus it will be employed for generating predictions for the test dataset."
      ]
    },
    {
      "cell_type": "markdown",
      "metadata": {
        "id": "2iHEqUNMgU10"
      },
      "source": [
        "\n",
        "\n",
        "---\n"
      ]
    },
    {
      "cell_type": "code",
      "metadata": {
        "id": "9hQmnPZoe9X5"
      },
      "source": [
        "pipeline_final = searchCV_XGBR.best_estimator_\n",
        "predictions = pipeline_final.predict(X_test_imp)"
      ],
      "execution_count": 64,
      "outputs": []
    },
    {
      "cell_type": "markdown",
      "metadata": {
        "id": "k0BgcFmmgmV2"
      },
      "source": [
        "### Submission\n",
        "Finally, we prepare our predictions for a submition to the Housing Prices Competition for Kaggle Learn Users. 🥳"
      ]
    },
    {
      "cell_type": "code",
      "metadata": {
        "colab": {
          "base_uri": "https://localhost:8080/"
        },
        "id": "mKtjLR8wgj7-",
        "outputId": "f8399d7c-5805-4998-9928-d0a43a7a3356"
      },
      "source": [
        "#Generate output\n",
        "output = pd.DataFrame({'Id': X_test_imp.index, \n",
        "                       'SalePrice': predictions})\n",
        "output.to_csv('submission.csv', index=False)\n",
        "print('Your submission was successfully saved!')"
      ],
      "execution_count": 65,
      "outputs": [
        {
          "output_type": "stream",
          "text": [
            "Your submission was successfully saved!\n"
          ],
          "name": "stdout"
        }
      ]
    },
    {
      "cell_type": "code",
      "metadata": {
        "id": "Ovv9SI4VgqCW"
      },
      "source": [
        ""
      ],
      "execution_count": null,
      "outputs": []
    }
  ]
}